{
 "cells": [
  {
   "cell_type": "markdown",
   "metadata": {},
   "source": [
    "# Saudi Used Cars\n",
    "\n",
    "by: Aditya Hadiyan Pudyo"
   ]
  },
  {
   "cell_type": "markdown",
   "metadata": {},
   "source": [
    "### **Contents**\n",
    "\n",
    "1. Business Problem Understanding\n",
    "2. Data Understanding\n",
    "3. Data Preprocessing\n",
    "4. Modeling\n",
    "5. Conclusion\n",
    "6. Recommendation\n",
    "\n",
    "[Sumber data Data Saudi Used Cars](https://drive.google.com/file/d/1Tr4YT5dmgwTrXLvIqZ4diBf5z8K6JjrR/view) "
   ]
  },
  {
   "cell_type": "markdown",
   "metadata": {},
   "source": [
    "## Business Problem Understanding"
   ]
  },
  {
   "cell_type": "markdown",
   "metadata": {},
   "source": [
    "**Context**\n",
    "\n",
    "Suatu perusahaan platform jual beli kendaraan bekas berperan sebagai pihak ketiga dalam mempertemukan antara penjual dan pembeli. Sejauh ini perusahaan memberikan kebebasan kepada para penjual untuk menentukan harga jual mereka masing masing, dimana hal ini memberikan kesulitan kepada penjual untuk mengetahui harga pasar untuk kendaraan yang akan mereka jual. Terdapat banyak faktor yang mempengaruhi harga jual suatu kendaraan. Apabila harga kendaraan dibawah harga pasar tentu akan merugukan penjual dan apabila terlalu mahal maka tidak ada pembeli yang akan membeli mobil tersebut. Hal tersebut juga harus dipahami oleh penjual, karena dapat mempengaruhi durasi penjualan kendaraan mereka, karena apabila kendaraan memiliki harga diatas rata-rata dengan klasifikasi yang sama akan lebih lambat terjual."
   ]
  },
  {
   "cell_type": "markdown",
   "metadata": {},
   "source": [
    "**Problem Statement**<br>\n",
    "\n",
    "Penentuan harga dan strategi dalam melakukan penjualan menjadi suatu masalah tersendiri dalam penjualan mobil bekas. perusahaan ingin membantu user mereka untuk menentukan strategi penjualan dan harga yang tepat dalam penjualan mobil di aplikasi yang mereka miliki. Hal tersebut diharapkan dapat membuat **user dari aplikasi yang mereka miliki meningkat**, dengan meningkatnya user maka di harapkan **trafik di dalam aplikasi yang mereka miliki meningkat**."
   ]
  },
  {
   "cell_type": "markdown",
   "metadata": {},
   "source": [
    "**Goals**\n",
    "\n",
    "Berdasarkan permasalahan tersebut perusahaan dirasa perlu memiliki suatu perangkat untuk memprediksi dan membantu user mereka (penjual) untuk dapat menentukan harga jual mobil yang tepat untuk setiap pengguna aplikasi mereka. Adanya perbedaan pada berbagai fitur yang terdapat pada mobil bekas seperti jenis transmisi, tahun produksi, dan jarak tempuh dapat menambah kekakuratan dalam mempredikis harga jual suatu mobil bekas.<br><br>\n",
    "Bagi perusahaan memberikan estimasi harga yang tepat dapat membantu penjual dalam menentukan harga jual mobil mereka, dengan begitu penjual mendapatkan harga yang bagus dan menguntungkan serta pembeli juga tida dirugikan karena harga yang terlalu tinggi. Dengan sistem penilaian harga yang baik diharapkan trafic didalam platform jual beli milik perusahaan akan meningkat, sehingga akan meningkatkan *revenue* bagi perusahaan."
   ]
  },
  {
   "cell_type": "markdown",
   "metadata": {},
   "source": [
    "**Analytics Approach**\n",
    "\n",
    "Perlu dilakukannya analisa data untuk menentukan pola dari fitur fitur yang ada dan membedakan suatu tipe dengan tipe yang lain. Selanjutnya akan dibangun model regresi yang membantu perusahaan untuk dapat menyediakan *prediction tools* untuk menaksir harga mobil yang akan dijual pada aplikasi milik mereka."
   ]
  },
  {
   "cell_type": "markdown",
   "metadata": {},
   "source": [
    "**Metric Evaluation**\n",
    "\n",
    "Evaluasi metrik yang akan digunakan adalah RMSE, MAE, dan MAPE, di mana RMSE adalah nilai rataan akar kuadrat dari error, MAE adalah rataan nilai absolut dari error, sedangkan MAPE adalah rataan persentase error yang dihasilkan oleh model regresi. Semakin kecil nilai RMSE, MAE, dan MAPE yang dihasilkan, berarti model semakin akurat dalam memprediksi harga sewa sesuai dengan limitasi fitur yang digunakan. \n",
    "\n",
    "Selain itu, kita juga bisa menggunakan nilai R-squared atau adj. R-squared jika model yang nanti terpilih sebagai final model adalah model linear. Nilai R-squared digunakan untuk mengetahui seberapa baik model dapat merepresentasikan varians keseluruhan data. Semakin mendekati 1, maka semakin fit pula modelnya terhadap data observasi. Namun, metrik ini tidak valid untuk model non-linear."
   ]
  },
  {
   "cell_type": "markdown",
   "metadata": {},
   "source": [
    "## Data Understanding"
   ]
  },
  {
   "cell_type": "markdown",
   "metadata": {},
   "source": [
    "Setiap baris pada data merepresentasikan informasi terkait mobil, baik tipe, asal kota dan kondisi kendaraan"
   ]
  },
  {
   "cell_type": "markdown",
   "metadata": {},
   "source": [
    "|No.| **Atribut** |  | **Deskripsi** |\n",
    "|--| --- | --- | --- |\n",
    "|1| Type | : | Tipe |\n",
    "|2| Region | : | Region |\n",
    "|3| Make | : | Merek |\n",
    "|4| Gear_Type | : | Sistem Transmisi |\n",
    "|5| Origin | : | Asal Negara |\n",
    "|6| Options | : | Options |\n",
    "|7| Year | : | Tahun Pembuatan |\n",
    "|8| Engine_Size | : | Ukuran Silinder Mesin |\n",
    "|9| Mileage | : | Jarak Tempuh |\n",
    "|10| Negotiable | : | Dapat di Negosiasi atau tidak |\n",
    "|11| price | : | Harga |"
   ]
  },
  {
   "cell_type": "code",
   "execution_count": 129,
   "metadata": {},
   "outputs": [],
   "source": [
    "import pandas as pd\n",
    "import numpy as np\n",
    "import matplotlib.pyplot as plt\n",
    "import seaborn as sns\n",
    "\n",
    "import warnings\n",
    "warnings.filterwarnings('ignore')\n",
    "\n",
    "pd.set_option('display.max_columns', None)"
   ]
  },
  {
   "cell_type": "markdown",
   "metadata": {},
   "source": [
    "### Load Dataset"
   ]
  },
  {
   "cell_type": "code",
   "execution_count": 130,
   "metadata": {},
   "outputs": [
    {
     "data": {
      "text/html": [
       "<div>\n",
       "<style scoped>\n",
       "    .dataframe tbody tr th:only-of-type {\n",
       "        vertical-align: middle;\n",
       "    }\n",
       "\n",
       "    .dataframe tbody tr th {\n",
       "        vertical-align: top;\n",
       "    }\n",
       "\n",
       "    .dataframe thead th {\n",
       "        text-align: right;\n",
       "    }\n",
       "</style>\n",
       "<table border=\"1\" class=\"dataframe\">\n",
       "  <thead>\n",
       "    <tr style=\"text-align: right;\">\n",
       "      <th></th>\n",
       "      <th>Type</th>\n",
       "      <th>Region</th>\n",
       "      <th>Make</th>\n",
       "      <th>Gear_Type</th>\n",
       "      <th>Origin</th>\n",
       "      <th>Options</th>\n",
       "      <th>Year</th>\n",
       "      <th>Engine_Size</th>\n",
       "      <th>Mileage</th>\n",
       "      <th>Negotiable</th>\n",
       "      <th>Price</th>\n",
       "    </tr>\n",
       "  </thead>\n",
       "  <tbody>\n",
       "    <tr>\n",
       "      <th>0</th>\n",
       "      <td>Corolla</td>\n",
       "      <td>Abha</td>\n",
       "      <td>Toyota</td>\n",
       "      <td>Manual</td>\n",
       "      <td>Saudi</td>\n",
       "      <td>Standard</td>\n",
       "      <td>2013</td>\n",
       "      <td>1.4</td>\n",
       "      <td>421000</td>\n",
       "      <td>True</td>\n",
       "      <td>0</td>\n",
       "    </tr>\n",
       "    <tr>\n",
       "      <th>1</th>\n",
       "      <td>Yukon</td>\n",
       "      <td>Riyadh</td>\n",
       "      <td>GMC</td>\n",
       "      <td>Automatic</td>\n",
       "      <td>Saudi</td>\n",
       "      <td>Full</td>\n",
       "      <td>2014</td>\n",
       "      <td>8.0</td>\n",
       "      <td>80000</td>\n",
       "      <td>False</td>\n",
       "      <td>120000</td>\n",
       "    </tr>\n",
       "    <tr>\n",
       "      <th>2</th>\n",
       "      <td>Range Rover</td>\n",
       "      <td>Riyadh</td>\n",
       "      <td>Land Rover</td>\n",
       "      <td>Automatic</td>\n",
       "      <td>Gulf Arabic</td>\n",
       "      <td>Full</td>\n",
       "      <td>2015</td>\n",
       "      <td>5.0</td>\n",
       "      <td>140000</td>\n",
       "      <td>False</td>\n",
       "      <td>260000</td>\n",
       "    </tr>\n",
       "    <tr>\n",
       "      <th>3</th>\n",
       "      <td>Optima</td>\n",
       "      <td>Hafar Al-Batin</td>\n",
       "      <td>Kia</td>\n",
       "      <td>Automatic</td>\n",
       "      <td>Saudi</td>\n",
       "      <td>Semi Full</td>\n",
       "      <td>2015</td>\n",
       "      <td>2.4</td>\n",
       "      <td>220000</td>\n",
       "      <td>False</td>\n",
       "      <td>42000</td>\n",
       "    </tr>\n",
       "    <tr>\n",
       "      <th>4</th>\n",
       "      <td>FJ</td>\n",
       "      <td>Riyadh</td>\n",
       "      <td>Toyota</td>\n",
       "      <td>Automatic</td>\n",
       "      <td>Saudi</td>\n",
       "      <td>Full</td>\n",
       "      <td>2020</td>\n",
       "      <td>4.0</td>\n",
       "      <td>49000</td>\n",
       "      <td>True</td>\n",
       "      <td>0</td>\n",
       "    </tr>\n",
       "  </tbody>\n",
       "</table>\n",
       "</div>"
      ],
      "text/plain": [
       "          Type          Region        Make  Gear_Type       Origin    Options  \\\n",
       "0      Corolla            Abha      Toyota     Manual        Saudi   Standard   \n",
       "1        Yukon          Riyadh         GMC  Automatic        Saudi       Full   \n",
       "2  Range Rover          Riyadh  Land Rover  Automatic  Gulf Arabic       Full   \n",
       "3       Optima  Hafar Al-Batin         Kia  Automatic        Saudi  Semi Full   \n",
       "4           FJ          Riyadh      Toyota  Automatic        Saudi       Full   \n",
       "\n",
       "   Year  Engine_Size  Mileage  Negotiable   Price  \n",
       "0  2013          1.4   421000        True       0  \n",
       "1  2014          8.0    80000       False  120000  \n",
       "2  2015          5.0   140000       False  260000  \n",
       "3  2015          2.4   220000       False   42000  \n",
       "4  2020          4.0    49000        True       0  "
      ]
     },
     "execution_count": 130,
     "metadata": {},
     "output_type": "execute_result"
    }
   ],
   "source": [
    "df = pd.read_csv('D:\\Belajar_Purwadika\\capstone_modul3\\data_saudi_used_cars.csv')\n",
    "df.head()"
   ]
  },
  {
   "cell_type": "code",
   "execution_count": 131,
   "metadata": {},
   "outputs": [
    {
     "data": {
      "text/html": [
       "<div>\n",
       "<style scoped>\n",
       "    .dataframe tbody tr th:only-of-type {\n",
       "        vertical-align: middle;\n",
       "    }\n",
       "\n",
       "    .dataframe tbody tr th {\n",
       "        vertical-align: top;\n",
       "    }\n",
       "\n",
       "    .dataframe thead th {\n",
       "        text-align: right;\n",
       "    }\n",
       "</style>\n",
       "<table border=\"1\" class=\"dataframe\">\n",
       "  <thead>\n",
       "    <tr style=\"text-align: right;\">\n",
       "      <th></th>\n",
       "      <th>Nama Kolom</th>\n",
       "      <th>Tipe Data</th>\n",
       "      <th>Jumlah Null</th>\n",
       "      <th>Jumlah Unique Value</th>\n",
       "      <th>Contoh Unique Value</th>\n",
       "    </tr>\n",
       "  </thead>\n",
       "  <tbody>\n",
       "    <tr>\n",
       "      <th>0</th>\n",
       "      <td>Type</td>\n",
       "      <td>object</td>\n",
       "      <td>0</td>\n",
       "      <td>347</td>\n",
       "      <td>[F-Pace, GC7]</td>\n",
       "    </tr>\n",
       "    <tr>\n",
       "      <th>1</th>\n",
       "      <td>Region</td>\n",
       "      <td>object</td>\n",
       "      <td>0</td>\n",
       "      <td>27</td>\n",
       "      <td>[Al-Baha, Hail]</td>\n",
       "    </tr>\n",
       "    <tr>\n",
       "      <th>2</th>\n",
       "      <td>Make</td>\n",
       "      <td>object</td>\n",
       "      <td>0</td>\n",
       "      <td>58</td>\n",
       "      <td>[Fiat, Suzuki]</td>\n",
       "    </tr>\n",
       "    <tr>\n",
       "      <th>3</th>\n",
       "      <td>Gear_Type</td>\n",
       "      <td>object</td>\n",
       "      <td>0</td>\n",
       "      <td>2</td>\n",
       "      <td>[Automatic, Manual]</td>\n",
       "    </tr>\n",
       "    <tr>\n",
       "      <th>4</th>\n",
       "      <td>Origin</td>\n",
       "      <td>object</td>\n",
       "      <td>0</td>\n",
       "      <td>4</td>\n",
       "      <td>[Other, Saudi]</td>\n",
       "    </tr>\n",
       "    <tr>\n",
       "      <th>5</th>\n",
       "      <td>Options</td>\n",
       "      <td>object</td>\n",
       "      <td>0</td>\n",
       "      <td>3</td>\n",
       "      <td>[Full, Standard]</td>\n",
       "    </tr>\n",
       "    <tr>\n",
       "      <th>6</th>\n",
       "      <td>Year</td>\n",
       "      <td>int64</td>\n",
       "      <td>0</td>\n",
       "      <td>50</td>\n",
       "      <td>[1987, 1977]</td>\n",
       "    </tr>\n",
       "    <tr>\n",
       "      <th>7</th>\n",
       "      <td>Engine_Size</td>\n",
       "      <td>float64</td>\n",
       "      <td>0</td>\n",
       "      <td>71</td>\n",
       "      <td>[6.9, 6.0]</td>\n",
       "    </tr>\n",
       "    <tr>\n",
       "      <th>8</th>\n",
       "      <td>Mileage</td>\n",
       "      <td>int64</td>\n",
       "      <td>0</td>\n",
       "      <td>1716</td>\n",
       "      <td>[169, 118]</td>\n",
       "    </tr>\n",
       "    <tr>\n",
       "      <th>9</th>\n",
       "      <td>Negotiable</td>\n",
       "      <td>bool</td>\n",
       "      <td>0</td>\n",
       "      <td>2</td>\n",
       "      <td>[True, False]</td>\n",
       "    </tr>\n",
       "    <tr>\n",
       "      <th>10</th>\n",
       "      <td>Price</td>\n",
       "      <td>int64</td>\n",
       "      <td>0</td>\n",
       "      <td>467</td>\n",
       "      <td>[84500, 136000]</td>\n",
       "    </tr>\n",
       "  </tbody>\n",
       "</table>\n",
       "</div>"
      ],
      "text/plain": [
       "     Nama Kolom Tipe Data  Jumlah Null  Jumlah Unique Value  \\\n",
       "0          Type    object            0                  347   \n",
       "1        Region    object            0                   27   \n",
       "2          Make    object            0                   58   \n",
       "3     Gear_Type    object            0                    2   \n",
       "4        Origin    object            0                    4   \n",
       "5       Options    object            0                    3   \n",
       "6          Year     int64            0                   50   \n",
       "7   Engine_Size   float64            0                   71   \n",
       "8       Mileage     int64            0                 1716   \n",
       "9    Negotiable      bool            0                    2   \n",
       "10        Price     int64            0                  467   \n",
       "\n",
       "    Contoh Unique Value  \n",
       "0         [F-Pace, GC7]  \n",
       "1       [Al-Baha, Hail]  \n",
       "2        [Fiat, Suzuki]  \n",
       "3   [Automatic, Manual]  \n",
       "4        [Other, Saudi]  \n",
       "5      [Full, Standard]  \n",
       "6          [1987, 1977]  \n",
       "7            [6.9, 6.0]  \n",
       "8            [169, 118]  \n",
       "9         [True, False]  \n",
       "10      [84500, 136000]  "
      ]
     },
     "execution_count": 131,
     "metadata": {},
     "output_type": "execute_result"
    }
   ],
   "source": [
    "dfDesc=[]\n",
    "for i in df.columns:\n",
    "    dfDesc.append([i,\n",
    "                     df[i].dtypes,\n",
    "                     df[i].isna().sum(),\n",
    "                     df[i].nunique(),\n",
    "                     df[i].drop_duplicates().sample(2).values])\n",
    "show = pd.DataFrame(dfDesc, columns=['Nama Kolom', 'Tipe Data', 'Jumlah Null', 'Jumlah Unique Value','Contoh Unique Value'])\n",
    "show"
   ]
  },
  {
   "cell_type": "markdown",
   "metadata": {},
   "source": [
    "Data yang dimiliki bersih tidak ada nilai null"
   ]
  },
  {
   "cell_type": "markdown",
   "metadata": {},
   "source": [
    "### Exploratory Data Analysis"
   ]
  },
  {
   "cell_type": "markdown",
   "metadata": {},
   "source": [
    "#### Deskripsi statistik"
   ]
  },
  {
   "cell_type": "code",
   "execution_count": 132,
   "metadata": {},
   "outputs": [
    {
     "data": {
      "text/html": [
       "<div>\n",
       "<style scoped>\n",
       "    .dataframe tbody tr th:only-of-type {\n",
       "        vertical-align: middle;\n",
       "    }\n",
       "\n",
       "    .dataframe tbody tr th {\n",
       "        vertical-align: top;\n",
       "    }\n",
       "\n",
       "    .dataframe thead th {\n",
       "        text-align: right;\n",
       "    }\n",
       "</style>\n",
       "<table border=\"1\" class=\"dataframe\">\n",
       "  <thead>\n",
       "    <tr style=\"text-align: right;\">\n",
       "      <th></th>\n",
       "      <th>Year</th>\n",
       "      <th>Engine_Size</th>\n",
       "      <th>Mileage</th>\n",
       "      <th>Price</th>\n",
       "    </tr>\n",
       "  </thead>\n",
       "  <tbody>\n",
       "    <tr>\n",
       "      <th>count</th>\n",
       "      <td>5624.000000</td>\n",
       "      <td>5624.000000</td>\n",
       "      <td>5.624000e+03</td>\n",
       "      <td>5624.000000</td>\n",
       "    </tr>\n",
       "    <tr>\n",
       "      <th>mean</th>\n",
       "      <td>2014.101885</td>\n",
       "      <td>3.295430</td>\n",
       "      <td>1.509234e+05</td>\n",
       "      <td>53074.058144</td>\n",
       "    </tr>\n",
       "    <tr>\n",
       "      <th>std</th>\n",
       "      <td>5.791606</td>\n",
       "      <td>1.515108</td>\n",
       "      <td>3.828360e+05</td>\n",
       "      <td>70155.340614</td>\n",
       "    </tr>\n",
       "    <tr>\n",
       "      <th>min</th>\n",
       "      <td>1963.000000</td>\n",
       "      <td>1.000000</td>\n",
       "      <td>1.000000e+02</td>\n",
       "      <td>0.000000</td>\n",
       "    </tr>\n",
       "    <tr>\n",
       "      <th>25%</th>\n",
       "      <td>2012.000000</td>\n",
       "      <td>2.000000</td>\n",
       "      <td>3.800000e+04</td>\n",
       "      <td>0.000000</td>\n",
       "    </tr>\n",
       "    <tr>\n",
       "      <th>50%</th>\n",
       "      <td>2016.000000</td>\n",
       "      <td>3.000000</td>\n",
       "      <td>1.030000e+05</td>\n",
       "      <td>36500.000000</td>\n",
       "    </tr>\n",
       "    <tr>\n",
       "      <th>75%</th>\n",
       "      <td>2018.000000</td>\n",
       "      <td>4.500000</td>\n",
       "      <td>1.960000e+05</td>\n",
       "      <td>72932.500000</td>\n",
       "    </tr>\n",
       "    <tr>\n",
       "      <th>max</th>\n",
       "      <td>2022.000000</td>\n",
       "      <td>9.000000</td>\n",
       "      <td>2.000000e+07</td>\n",
       "      <td>850000.000000</td>\n",
       "    </tr>\n",
       "  </tbody>\n",
       "</table>\n",
       "</div>"
      ],
      "text/plain": [
       "              Year  Engine_Size       Mileage          Price\n",
       "count  5624.000000  5624.000000  5.624000e+03    5624.000000\n",
       "mean   2014.101885     3.295430  1.509234e+05   53074.058144\n",
       "std       5.791606     1.515108  3.828360e+05   70155.340614\n",
       "min    1963.000000     1.000000  1.000000e+02       0.000000\n",
       "25%    2012.000000     2.000000  3.800000e+04       0.000000\n",
       "50%    2016.000000     3.000000  1.030000e+05   36500.000000\n",
       "75%    2018.000000     4.500000  1.960000e+05   72932.500000\n",
       "max    2022.000000     9.000000  2.000000e+07  850000.000000"
      ]
     },
     "metadata": {},
     "output_type": "display_data"
    },
    {
     "data": {
      "text/html": [
       "<div>\n",
       "<style scoped>\n",
       "    .dataframe tbody tr th:only-of-type {\n",
       "        vertical-align: middle;\n",
       "    }\n",
       "\n",
       "    .dataframe tbody tr th {\n",
       "        vertical-align: top;\n",
       "    }\n",
       "\n",
       "    .dataframe thead th {\n",
       "        text-align: right;\n",
       "    }\n",
       "</style>\n",
       "<table border=\"1\" class=\"dataframe\">\n",
       "  <thead>\n",
       "    <tr style=\"text-align: right;\">\n",
       "      <th></th>\n",
       "      <th>Type</th>\n",
       "      <th>Region</th>\n",
       "      <th>Make</th>\n",
       "      <th>Gear_Type</th>\n",
       "      <th>Origin</th>\n",
       "      <th>Options</th>\n",
       "    </tr>\n",
       "  </thead>\n",
       "  <tbody>\n",
       "    <tr>\n",
       "      <th>count</th>\n",
       "      <td>5624</td>\n",
       "      <td>5624</td>\n",
       "      <td>5624</td>\n",
       "      <td>5624</td>\n",
       "      <td>5624</td>\n",
       "      <td>5624</td>\n",
       "    </tr>\n",
       "    <tr>\n",
       "      <th>unique</th>\n",
       "      <td>347</td>\n",
       "      <td>27</td>\n",
       "      <td>58</td>\n",
       "      <td>2</td>\n",
       "      <td>4</td>\n",
       "      <td>3</td>\n",
       "    </tr>\n",
       "    <tr>\n",
       "      <th>top</th>\n",
       "      <td>Land Cruiser</td>\n",
       "      <td>Riyadh</td>\n",
       "      <td>Toyota</td>\n",
       "      <td>Automatic</td>\n",
       "      <td>Saudi</td>\n",
       "      <td>Full</td>\n",
       "    </tr>\n",
       "    <tr>\n",
       "      <th>freq</th>\n",
       "      <td>269</td>\n",
       "      <td>2272</td>\n",
       "      <td>1431</td>\n",
       "      <td>4875</td>\n",
       "      <td>4188</td>\n",
       "      <td>2233</td>\n",
       "    </tr>\n",
       "  </tbody>\n",
       "</table>\n",
       "</div>"
      ],
      "text/plain": [
       "                Type  Region    Make  Gear_Type Origin Options\n",
       "count           5624    5624    5624       5624   5624    5624\n",
       "unique           347      27      58          2      4       3\n",
       "top     Land Cruiser  Riyadh  Toyota  Automatic  Saudi    Full\n",
       "freq             269    2272    1431       4875   4188    2233"
      ]
     },
     "metadata": {},
     "output_type": "display_data"
    }
   ],
   "source": [
    "display(df.describe(), df.describe(include='object'))"
   ]
  },
  {
   "cell_type": "code",
   "execution_count": 133,
   "metadata": {},
   "outputs": [
    {
     "data": {
      "text/plain": [
       "Text(0.5, 1.0, 'Correlation Matrix')"
      ]
     },
     "execution_count": 133,
     "metadata": {},
     "output_type": "execute_result"
    },
    {
     "data": {
      "image/png": "[encoded data removed]",
      "text/plain": [
       "<Figure size 1080x864 with 2 Axes>"
      ]
     },
     "metadata": {
      "needs_background": "light"
     },
     "output_type": "display_data"
    }
   ],
   "source": [
    "plt.figure(figsize=(15, 12))\n",
    "palette=sns.diverging_palette(20, 220, n=256)\n",
    "corr = df.corr(method='pearson')\n",
    "sns.heatmap(corr, annot=True, fmt='.2f', cmap=palette, square=True, linewidths=.5)\n",
    "plt.title('Correlation Matrix', size=15, weight='bold')"
   ]
  },
  {
   "cell_type": "markdown",
   "metadata": {},
   "source": [
    "Correlation matrix menunjukkan bahwa tidak ada fitur yang memiliki korelasi yang kuat terhadap fitur price."
   ]
  },
  {
   "cell_type": "code",
   "execution_count": 134,
   "metadata": {},
   "outputs": [
    {
     "data": {
      "text/plain": [
       "Negotiable\n",
       "False    58000.0\n",
       "True         0.0\n",
       "Name: Price, dtype: float64"
      ]
     },
     "execution_count": 134,
     "metadata": {},
     "output_type": "execute_result"
    }
   ],
   "source": [
    "df.groupby('Negotiable').median()['Price']"
   ]
  },
  {
   "cell_type": "code",
   "execution_count": 135,
   "metadata": {},
   "outputs": [
    {
     "data": {
      "text/plain": [
       "0"
      ]
     },
     "execution_count": 135,
     "metadata": {},
     "output_type": "execute_result"
    }
   ],
   "source": [
    "df[(df['Negotiable'] == 'True') & (df['Price'] != 0)]['Type'].count()"
   ]
  },
  {
   "cell_type": "code",
   "execution_count": 136,
   "metadata": {},
   "outputs": [
    {
     "data": {
      "text/plain": [
       "<AxesSubplot:xlabel='Negotiable', ylabel='Price'>"
      ]
     },
     "execution_count": 136,
     "metadata": {},
     "output_type": "execute_result"
    },
    {
     "data": {
      "image/png": "[encoded data removed]",
      "text/plain": [
       "<Figure size 432x288 with 1 Axes>"
      ]
     },
     "metadata": {
      "needs_background": "light"
     },
     "output_type": "display_data"
    }
   ],
   "source": [
    "sns.barplot(df[\"Negotiable\"], df['Price'])"
   ]
  },
  {
   "cell_type": "markdown",
   "metadata": {},
   "source": [
    "Dapat disimpulkan bahwa seluruh fariabel dengan *negotiation = True* memiliki harga 0"
   ]
  },
  {
   "cell_type": "markdown",
   "metadata": {},
   "source": [
    "### Data Cleaning dan Feature Engineering"
   ]
  },
  {
   "cell_type": "markdown",
   "metadata": {},
   "source": [
    "Selanjutnya dilakukan feature enginering dan data  cleaning dengan tujuan untuk membuat data data yang ada didalam model dapat digunakan untuk pemodelan. dimana data yang tidak masuk akal akan dihilangkan dan tidak di ikut sertakan dalam pemodelan"
   ]
  },
  {
   "cell_type": "code",
   "execution_count": 137,
   "metadata": {},
   "outputs": [
    {
     "data": {
      "text/html": [
       "<div>\n",
       "<style scoped>\n",
       "    .dataframe tbody tr th:only-of-type {\n",
       "        vertical-align: middle;\n",
       "    }\n",
       "\n",
       "    .dataframe tbody tr th {\n",
       "        vertical-align: top;\n",
       "    }\n",
       "\n",
       "    .dataframe thead th {\n",
       "        text-align: right;\n",
       "    }\n",
       "</style>\n",
       "<table border=\"1\" class=\"dataframe\">\n",
       "  <thead>\n",
       "    <tr style=\"text-align: right;\">\n",
       "      <th></th>\n",
       "      <th>Type</th>\n",
       "      <th>Region</th>\n",
       "      <th>Make</th>\n",
       "      <th>Gear_Type</th>\n",
       "      <th>Origin</th>\n",
       "      <th>Options</th>\n",
       "      <th>Year</th>\n",
       "      <th>Engine_Size</th>\n",
       "      <th>Mileage</th>\n",
       "      <th>Price</th>\n",
       "    </tr>\n",
       "  </thead>\n",
       "  <tbody>\n",
       "    <tr>\n",
       "      <th>1</th>\n",
       "      <td>Yukon</td>\n",
       "      <td>Riyadh</td>\n",
       "      <td>GMC</td>\n",
       "      <td>Automatic</td>\n",
       "      <td>Saudi</td>\n",
       "      <td>Full</td>\n",
       "      <td>2014</td>\n",
       "      <td>8.0</td>\n",
       "      <td>80000</td>\n",
       "      <td>120000</td>\n",
       "    </tr>\n",
       "    <tr>\n",
       "      <th>2</th>\n",
       "      <td>Range Rover</td>\n",
       "      <td>Riyadh</td>\n",
       "      <td>Land Rover</td>\n",
       "      <td>Automatic</td>\n",
       "      <td>Gulf Arabic</td>\n",
       "      <td>Full</td>\n",
       "      <td>2015</td>\n",
       "      <td>5.0</td>\n",
       "      <td>140000</td>\n",
       "      <td>260000</td>\n",
       "    </tr>\n",
       "    <tr>\n",
       "      <th>3</th>\n",
       "      <td>Optima</td>\n",
       "      <td>Hafar Al-Batin</td>\n",
       "      <td>Kia</td>\n",
       "      <td>Automatic</td>\n",
       "      <td>Saudi</td>\n",
       "      <td>Semi Full</td>\n",
       "      <td>2015</td>\n",
       "      <td>2.4</td>\n",
       "      <td>220000</td>\n",
       "      <td>42000</td>\n",
       "    </tr>\n",
       "    <tr>\n",
       "      <th>5</th>\n",
       "      <td>CX3</td>\n",
       "      <td>Abha</td>\n",
       "      <td>Mazda</td>\n",
       "      <td>Automatic</td>\n",
       "      <td>Saudi</td>\n",
       "      <td>Semi Full</td>\n",
       "      <td>2019</td>\n",
       "      <td>2.0</td>\n",
       "      <td>25000</td>\n",
       "      <td>58000</td>\n",
       "    </tr>\n",
       "    <tr>\n",
       "      <th>6</th>\n",
       "      <td>Cayenne S</td>\n",
       "      <td>Riyadh</td>\n",
       "      <td>Porsche</td>\n",
       "      <td>Automatic</td>\n",
       "      <td>Saudi</td>\n",
       "      <td>Full</td>\n",
       "      <td>2012</td>\n",
       "      <td>4.8</td>\n",
       "      <td>189000</td>\n",
       "      <td>85000</td>\n",
       "    </tr>\n",
       "  </tbody>\n",
       "</table>\n",
       "</div>"
      ],
      "text/plain": [
       "          Type          Region        Make  Gear_Type       Origin    Options  \\\n",
       "1        Yukon          Riyadh         GMC  Automatic        Saudi       Full   \n",
       "2  Range Rover          Riyadh  Land Rover  Automatic  Gulf Arabic       Full   \n",
       "3       Optima  Hafar Al-Batin         Kia  Automatic        Saudi  Semi Full   \n",
       "5          CX3            Abha       Mazda  Automatic        Saudi  Semi Full   \n",
       "6    Cayenne S          Riyadh     Porsche  Automatic        Saudi       Full   \n",
       "\n",
       "   Year  Engine_Size  Mileage   Price  \n",
       "1  2014          8.0    80000  120000  \n",
       "2  2015          5.0   140000  260000  \n",
       "3  2015          2.4   220000   42000  \n",
       "5  2019          2.0    25000   58000  \n",
       "6  2012          4.8   189000   85000  "
      ]
     },
     "execution_count": 137,
     "metadata": {},
     "output_type": "execute_result"
    }
   ],
   "source": [
    "df2 = df[df[\"Negotiable\"] == False]\n",
    "df2.drop(columns=['Negotiable'], inplace= True)\n",
    "df2.head()"
   ]
  },
  {
   "cell_type": "code",
   "execution_count": 138,
   "metadata": {},
   "outputs": [
    {
     "data": {
      "text/plain": [
       "0"
      ]
     },
     "execution_count": 138,
     "metadata": {},
     "output_type": "execute_result"
    }
   ],
   "source": [
    "df2[\"Price\"].min()\n"
   ]
  },
  {
   "cell_type": "code",
   "execution_count": 139,
   "metadata": {},
   "outputs": [
    {
     "data": {
      "text/plain": [
       "1"
      ]
     },
     "execution_count": 139,
     "metadata": {},
     "output_type": "execute_result"
    }
   ],
   "source": [
    "df2 = df2[df2.Price != 0]\n",
    "df2[\"Price\"].min()\n"
   ]
  },
  {
   "cell_type": "code",
   "execution_count": 140,
   "metadata": {},
   "outputs": [
    {
     "data": {
      "text/plain": [
       "500"
      ]
     },
     "execution_count": 140,
     "metadata": {},
     "output_type": "execute_result"
    }
   ],
   "source": [
    "df2 = df2[df2.Price != 1]\n",
    "df2[\"Price\"].min()"
   ]
  },
  {
   "cell_type": "markdown",
   "metadata": {},
   "source": [
    "Selanjutnya dilakukan droping variable dengan Negotiable True, dikarenakan selurun data dengan nilai negotiable true akan memiliki harga 0. Dilanjutkan dengan melihat data terkecil untuk model dan di dapatkan terdapat 2 data yang tidak masuk akal, dimana harga keduanya adalah 0 dan 1, sehingga kedua data tersebut tidak di ikutsertakan dalam pemodelan."
   ]
  },
  {
   "cell_type": "markdown",
   "metadata": {},
   "source": [
    "#### Uji distribusi data"
   ]
  },
  {
   "cell_type": "markdown",
   "metadata": {},
   "source": [
    "**Dengan negotiable True**"
   ]
  },
  {
   "cell_type": "code",
   "execution_count": 141,
   "metadata": {},
   "outputs": [
    {
     "data": {
      "text/plain": [
       "Text(0.5, 1.0, 'Price Distribution Plot (with negotiable true)')"
      ]
     },
     "execution_count": 141,
     "metadata": {},
     "output_type": "execute_result"
    },
    {
     "data": {
      "image/png": "[encoded data removed]",
      "text/plain": [
       "<Figure size 504x504 with 1 Axes>"
      ]
     },
     "metadata": {
      "needs_background": "light"
     },
     "output_type": "display_data"
    }
   ],
   "source": [
    "# Plot distribusi fitur 'price'\n",
    "plt.figure(figsize=(7, 7))\n",
    "sns.distplot(df['Price'])\n",
    "plt.title('Price Distribution Plot (with negotiable true)', size=15, weight='bold')"
   ]
  },
  {
   "cell_type": "code",
   "execution_count": 142,
   "metadata": {},
   "outputs": [
    {
     "name": "stdout",
     "output_type": "stream",
     "text": [
      "Data tidak terdistribusi normal, pvalue = 0.0\n"
     ]
    }
   ],
   "source": [
    "from scipy.stats import shapiro\n",
    "\n",
    "sw_Statistic, sw_pvalue = shapiro(df[\"Price\"])\n",
    "\n",
    "if sw_pvalue > 0.05:\n",
    "    print (f'Data terdistribusi Normal, pvalue = {sw_pvalue}')\n",
    "else:\n",
    "    print(f'Data tidak terdistribusi normal, pvalue = {sw_pvalue}')"
   ]
  },
  {
   "cell_type": "markdown",
   "metadata": {},
   "source": [
    "**Tanpa Negotiable True**"
   ]
  },
  {
   "cell_type": "code",
   "execution_count": 143,
   "metadata": {},
   "outputs": [
    {
     "data": {
      "text/plain": [
       "Text(0.5, 1.0, 'Price Distribution Plot (whitout negotiable true)')"
      ]
     },
     "execution_count": 143,
     "metadata": {},
     "output_type": "execute_result"
    },
    {
     "data": {
      "image/png": "[encoded data removed]",
      "text/plain": [
       "<Figure size 504x504 with 1 Axes>"
      ]
     },
     "metadata": {
      "needs_background": "light"
     },
     "output_type": "display_data"
    }
   ],
   "source": [
    "plt.figure(figsize=(7, 7))\n",
    "sns.distplot(df2['Price'])\n",
    "plt.title('Price Distribution Plot (whitout negotiable true)', size=15, weight='bold')"
   ]
  },
  {
   "cell_type": "code",
   "execution_count": 144,
   "metadata": {},
   "outputs": [
    {
     "name": "stdout",
     "output_type": "stream",
     "text": [
      "Data tidak terdistribusi normal, pvalue = 0.0\n"
     ]
    }
   ],
   "source": [
    "from scipy.stats import shapiro\n",
    "\n",
    "sw_Statistic, sw_pvalue = shapiro(df2['Price'])\n",
    "\n",
    "if sw_pvalue > 0.05:\n",
    "    print (f'Data terdistribusi Normal, pvalue = {sw_pvalue}')\n",
    "else:\n",
    "    print(f'Data tidak terdistribusi normal, pvalue = {sw_pvalue}')"
   ]
  },
  {
   "cell_type": "markdown",
   "metadata": {},
   "source": [
    "Dari 2 gambar dan 2 uji statistika diatas (dengan dan tanpa Negotiation True) dapat disimpulkan bahwa distribusi data harga jual mobil bekas tidak terdistribusi normal. Pada grafik terlihat bahwa terdapat *right-skewed dsitribution*, dengan kata lain terdapat *positive skewness* pada fitur price"
   ]
  },
  {
   "cell_type": "markdown",
   "metadata": {},
   "source": [
    "#### Plot description"
   ]
  },
  {
   "cell_type": "code",
   "execution_count": 145,
   "metadata": {},
   "outputs": [
    {
     "data": {
      "image/png": "[encoded data removed]",
      "text/plain": [
       "<Figure size 2160x2160 with 3 Axes>"
      ]
     },
     "metadata": {
      "needs_background": "light"
     },
     "output_type": "display_data"
    }
   ],
   "source": [
    "count = 0\n",
    "fig = plt.figure(figsize=(30,30))\n",
    "\n",
    "for i in df2[['Gear_Type','Origin', 'Options']].columns:\n",
    "    count +=1\n",
    "    ax= plt.subplot(4,2,count)\n",
    "    sns.barplot(df[\"Price\"], df[i])\n",
    "    fig.tight_layout()\n",
    "    plt.grid(True)\n",
    "\n",
    "plt.show()\n"
   ]
  },
  {
   "cell_type": "code",
   "execution_count": 146,
   "metadata": {},
   "outputs": [
    {
     "data": {
      "text/html": [
       "<div>\n",
       "<style scoped>\n",
       "    .dataframe tbody tr th:only-of-type {\n",
       "        vertical-align: middle;\n",
       "    }\n",
       "\n",
       "    .dataframe tbody tr th {\n",
       "        vertical-align: top;\n",
       "    }\n",
       "\n",
       "    .dataframe thead th {\n",
       "        text-align: right;\n",
       "    }\n",
       "</style>\n",
       "<table border=\"1\" class=\"dataframe\">\n",
       "  <thead>\n",
       "    <tr style=\"text-align: right;\">\n",
       "      <th></th>\n",
       "      <th>Type</th>\n",
       "    </tr>\n",
       "    <tr>\n",
       "      <th>Region</th>\n",
       "      <th></th>\n",
       "    </tr>\n",
       "  </thead>\n",
       "  <tbody>\n",
       "    <tr>\n",
       "      <th>Abha</th>\n",
       "      <td>30</td>\n",
       "    </tr>\n",
       "    <tr>\n",
       "      <th>Al-Ahsa</th>\n",
       "      <td>111</td>\n",
       "    </tr>\n",
       "    <tr>\n",
       "      <th>Al-Baha</th>\n",
       "      <td>18</td>\n",
       "    </tr>\n",
       "    <tr>\n",
       "      <th>Al-Jouf</th>\n",
       "      <td>15</td>\n",
       "    </tr>\n",
       "    <tr>\n",
       "      <th>Al-Medina</th>\n",
       "      <td>124</td>\n",
       "    </tr>\n",
       "    <tr>\n",
       "      <th>Al-Namas</th>\n",
       "      <td>10</td>\n",
       "    </tr>\n",
       "    <tr>\n",
       "      <th>Arar</th>\n",
       "      <td>7</td>\n",
       "    </tr>\n",
       "    <tr>\n",
       "      <th>Aseer</th>\n",
       "      <td>87</td>\n",
       "    </tr>\n",
       "    <tr>\n",
       "      <th>Besha</th>\n",
       "      <td>3</td>\n",
       "    </tr>\n",
       "    <tr>\n",
       "      <th>Dammam</th>\n",
       "      <td>749</td>\n",
       "    </tr>\n",
       "    <tr>\n",
       "      <th>Hafar Al-Batin</th>\n",
       "      <td>15</td>\n",
       "    </tr>\n",
       "    <tr>\n",
       "      <th>Hail</th>\n",
       "      <td>25</td>\n",
       "    </tr>\n",
       "    <tr>\n",
       "      <th>Jazan</th>\n",
       "      <td>34</td>\n",
       "    </tr>\n",
       "    <tr>\n",
       "      <th>Jeddah</th>\n",
       "      <td>547</td>\n",
       "    </tr>\n",
       "    <tr>\n",
       "      <th>Jubail</th>\n",
       "      <td>33</td>\n",
       "    </tr>\n",
       "    <tr>\n",
       "      <th>Khobar</th>\n",
       "      <td>51</td>\n",
       "    </tr>\n",
       "    <tr>\n",
       "      <th>Makkah</th>\n",
       "      <td>87</td>\n",
       "    </tr>\n",
       "    <tr>\n",
       "      <th>Najran</th>\n",
       "      <td>19</td>\n",
       "    </tr>\n",
       "    <tr>\n",
       "      <th>Qassim</th>\n",
       "      <td>112</td>\n",
       "    </tr>\n",
       "    <tr>\n",
       "      <th>Qurayyat</th>\n",
       "      <td>4</td>\n",
       "    </tr>\n",
       "    <tr>\n",
       "      <th>Riyadh</th>\n",
       "      <td>1616</td>\n",
       "    </tr>\n",
       "    <tr>\n",
       "      <th>Sabya</th>\n",
       "      <td>1</td>\n",
       "    </tr>\n",
       "    <tr>\n",
       "      <th>Sakaka</th>\n",
       "      <td>4</td>\n",
       "    </tr>\n",
       "    <tr>\n",
       "      <th>Tabouk</th>\n",
       "      <td>51</td>\n",
       "    </tr>\n",
       "    <tr>\n",
       "      <th>Taef</th>\n",
       "      <td>53</td>\n",
       "    </tr>\n",
       "    <tr>\n",
       "      <th>Wadi Dawasir</th>\n",
       "      <td>5</td>\n",
       "    </tr>\n",
       "    <tr>\n",
       "      <th>Yanbu</th>\n",
       "      <td>15</td>\n",
       "    </tr>\n",
       "  </tbody>\n",
       "</table>\n",
       "</div>"
      ],
      "text/plain": [
       "                Type\n",
       "Region              \n",
       "Abha              30\n",
       "Al-Ahsa          111\n",
       "Al-Baha           18\n",
       "Al-Jouf           15\n",
       "Al-Medina        124\n",
       "Al-Namas          10\n",
       "Arar               7\n",
       "Aseer             87\n",
       "Besha              3\n",
       "Dammam           749\n",
       "Hafar Al-Batin    15\n",
       "Hail              25\n",
       "Jazan             34\n",
       "Jeddah           547\n",
       "Jubail            33\n",
       "Khobar            51\n",
       "Makkah            87\n",
       "Najran            19\n",
       "Qassim           112\n",
       "Qurayyat           4\n",
       "Riyadh          1616\n",
       "Sabya              1\n",
       "Sakaka             4\n",
       "Tabouk            51\n",
       "Taef              53\n",
       "Wadi Dawasir       5\n",
       "Yanbu             15"
      ]
     },
     "metadata": {},
     "output_type": "display_data"
    },
    {
     "data": {
      "image/png": "[encoded data removed]",
      "text/plain": [
       "<Figure size 2160x720 with 1 Axes>"
      ]
     },
     "metadata": {
      "needs_background": "light"
     },
     "output_type": "display_data"
    }
   ],
   "source": [
    "from IPython.display import display\n",
    "\n",
    "\n",
    "neighbour_pivot = df2.pivot_table(index='Region', values='Type', aggfunc='count')\n",
    "display(neighbour_pivot)\n",
    "\n",
    "pivot_plot = neighbour_pivot.plot.bar(stacked=True, figsize=(30, 10))\n",
    "pivot_plot.set_xlabel('Region')\n",
    "pivot_plot.set_ylabel('Jumlah Kendaraan')\n",
    "pivot_plot.set_title('Jumlah Kendaraan Pada setiap Region')\n",
    "plt.show()"
   ]
  },
  {
   "cell_type": "markdown",
   "metadata": {},
   "source": [
    "Riadh merupakan region dengan tingkat penjualan paling banyak dengan 1617 penjualan tanpa negotiable true"
   ]
  },
  {
   "cell_type": "code",
   "execution_count": 147,
   "metadata": {},
   "outputs": [],
   "source": [
    "df3 = df2.groupby(['Year']).count()\n",
    "df7 = df2.groupby(['Year']).sum()\n",
    "df3['prosentase'] = (df3['Price']/df3['Price'].sum())*100\n",
    "df3['prosentase2'] = (df7['Price']/df7['Price'].sum())*100\n",
    "df3['Total_price'] = df7['Price']\n",
    "\n"
   ]
  },
  {
   "cell_type": "code",
   "execution_count": 148,
   "metadata": {},
   "outputs": [
    {
     "data": {
      "image/png": "[encoded data removed]",
      "text/plain": [
       "<Figure size 2160x1080 with 1 Axes>"
      ]
     },
     "metadata": {
      "needs_background": "light"
     },
     "output_type": "display_data"
    }
   ],
   "source": [
    "plt.figure(figsize=(30,15))\n",
    "plt.plot( df3.index, df3['prosentase'], \"red\",\n",
    "            df3.index, df3['prosentase2'], \"Blue\",)\n",
    "plt.title (\"Prosentase Penjualan dan Total Harga Penjualan\")\n",
    "plt.ylabel(\"Prosentase\")\n",
    "plt.xlabel (\"Tahun\")\n",
    "plt.legend([\"Prosentase Jumlah Penjualan\",'Prosentase Total Harga Penjualan'])\n",
    "\n",
    "plt.grid(True)\n",
    "plt.show()"
   ]
  },
  {
   "cell_type": "code",
   "execution_count": 149,
   "metadata": {},
   "outputs": [
    {
     "data": {
      "text/html": [
       "<div>\n",
       "<style scoped>\n",
       "    .dataframe tbody tr th:only-of-type {\n",
       "        vertical-align: middle;\n",
       "    }\n",
       "\n",
       "    .dataframe tbody tr th {\n",
       "        vertical-align: top;\n",
       "    }\n",
       "\n",
       "    .dataframe thead th {\n",
       "        text-align: right;\n",
       "    }\n",
       "</style>\n",
       "<table border=\"1\" class=\"dataframe\">\n",
       "  <thead>\n",
       "    <tr style=\"text-align: right;\">\n",
       "      <th></th>\n",
       "      <th>Price</th>\n",
       "      <th>Total_price</th>\n",
       "    </tr>\n",
       "    <tr>\n",
       "      <th>Year</th>\n",
       "      <th></th>\n",
       "      <th></th>\n",
       "    </tr>\n",
       "  </thead>\n",
       "  <tbody>\n",
       "    <tr>\n",
       "      <th>2016</th>\n",
       "      <td>610</td>\n",
       "      <td>49384126</td>\n",
       "    </tr>\n",
       "    <tr>\n",
       "      <th>2017</th>\n",
       "      <td>440</td>\n",
       "      <td>34826767</td>\n",
       "    </tr>\n",
       "    <tr>\n",
       "      <th>2018</th>\n",
       "      <td>439</td>\n",
       "      <td>38509783</td>\n",
       "    </tr>\n",
       "    <tr>\n",
       "      <th>2015</th>\n",
       "      <td>389</td>\n",
       "      <td>30221121</td>\n",
       "    </tr>\n",
       "    <tr>\n",
       "      <th>2019</th>\n",
       "      <td>359</td>\n",
       "      <td>37319141</td>\n",
       "    </tr>\n",
       "    <tr>\n",
       "      <th>2020</th>\n",
       "      <td>276</td>\n",
       "      <td>36847021</td>\n",
       "    </tr>\n",
       "    <tr>\n",
       "      <th>2014</th>\n",
       "      <td>251</td>\n",
       "      <td>16868900</td>\n",
       "    </tr>\n",
       "    <tr>\n",
       "      <th>2013</th>\n",
       "      <td>209</td>\n",
       "      <td>12616587</td>\n",
       "    </tr>\n",
       "    <tr>\n",
       "      <th>2011</th>\n",
       "      <td>122</td>\n",
       "      <td>5298500</td>\n",
       "    </tr>\n",
       "    <tr>\n",
       "      <th>2012</th>\n",
       "      <td>119</td>\n",
       "      <td>5918600</td>\n",
       "    </tr>\n",
       "  </tbody>\n",
       "</table>\n",
       "</div>"
      ],
      "text/plain": [
       "      Price  Total_price\n",
       "Year                    \n",
       "2016    610     49384126\n",
       "2017    440     34826767\n",
       "2018    439     38509783\n",
       "2015    389     30221121\n",
       "2019    359     37319141\n",
       "2020    276     36847021\n",
       "2014    251     16868900\n",
       "2013    209     12616587\n",
       "2011    122      5298500\n",
       "2012    119      5918600"
      ]
     },
     "execution_count": 149,
     "metadata": {},
     "output_type": "execute_result"
    }
   ],
   "source": [
    "df3[['Price','Total_price' ]].sort_values('Price', ascending= False).head(10)"
   ]
  },
  {
   "cell_type": "markdown",
   "metadata": {},
   "source": [
    "Dapat dilihat bahwa tren penjualan mobil semakin meningkat sepanjang tahun, tetapi terjadi penurunan pada tahun 2016 dan Tahun perakitan tahun 2016 dan 2018 merupakan tahun perakitan paling tinggi total harga penjualannya."
   ]
  },
  {
   "cell_type": "code",
   "execution_count": 150,
   "metadata": {},
   "outputs": [
    {
     "data": {
      "image/png": "[encoded data removed]",
      "text/plain": [
       "<Figure size 2160x2160 with 2 Axes>"
      ]
     },
     "metadata": {
      "needs_background": "light"
     },
     "output_type": "display_data"
    }
   ],
   "source": [
    "count = 0\n",
    "fig = plt.figure(figsize=(30,30))\n",
    "for i in df2[['Engine_Size','Mileage']].columns:\n",
    "    count +=1\n",
    "    ax= plt.subplot(4,2,count)\n",
    "    title = pd.DataFrame(df2[i]).columns[0] + ' vs. Prediction Price'\n",
    "    sns.scatterplot(x=df2[i], y=df2['Price']).set(title=title, \n",
    "                                                xlabel=pd.DataFrame(df2[i]).columns[0], \n",
    "                                                ylabel='Price')   "
   ]
  },
  {
   "cell_type": "markdown",
   "metadata": {},
   "source": [
    "Engine size tidak terlihat polanya terhadap harga, sedangkan semakin besar millage cenderung memiliki harga yang lebih rendah"
   ]
  },
  {
   "cell_type": "code",
   "execution_count": 151,
   "metadata": {},
   "outputs": [
    {
     "data": {
      "text/html": [
       "<div>\n",
       "<style scoped>\n",
       "    .dataframe tbody tr th:only-of-type {\n",
       "        vertical-align: middle;\n",
       "    }\n",
       "\n",
       "    .dataframe tbody tr th {\n",
       "        vertical-align: top;\n",
       "    }\n",
       "\n",
       "    .dataframe thead th {\n",
       "        text-align: right;\n",
       "    }\n",
       "</style>\n",
       "<table border=\"1\" class=\"dataframe\">\n",
       "  <thead>\n",
       "    <tr style=\"text-align: right;\">\n",
       "      <th></th>\n",
       "      <th>Year</th>\n",
       "      <th>Engine_Size</th>\n",
       "      <th>Mileage</th>\n",
       "      <th>Price</th>\n",
       "    </tr>\n",
       "  </thead>\n",
       "  <tbody>\n",
       "    <tr>\n",
       "      <th>count</th>\n",
       "      <td>3826.000000</td>\n",
       "      <td>3826.000000</td>\n",
       "      <td>3.826000e+03</td>\n",
       "      <td>3826.000000</td>\n",
       "    </tr>\n",
       "    <tr>\n",
       "      <th>mean</th>\n",
       "      <td>2014.852065</td>\n",
       "      <td>3.179587</td>\n",
       "      <td>1.426446e+05</td>\n",
       "      <td>78015.813382</td>\n",
       "    </tr>\n",
       "    <tr>\n",
       "      <th>std</th>\n",
       "      <td>5.109885</td>\n",
       "      <td>1.458512</td>\n",
       "      <td>3.783049e+05</td>\n",
       "      <td>72725.279149</td>\n",
       "    </tr>\n",
       "    <tr>\n",
       "      <th>min</th>\n",
       "      <td>1963.000000</td>\n",
       "      <td>1.000000</td>\n",
       "      <td>1.000000e+02</td>\n",
       "      <td>500.000000</td>\n",
       "    </tr>\n",
       "    <tr>\n",
       "      <th>25%</th>\n",
       "      <td>2013.000000</td>\n",
       "      <td>2.000000</td>\n",
       "      <td>4.800000e+04</td>\n",
       "      <td>35000.000000</td>\n",
       "    </tr>\n",
       "    <tr>\n",
       "      <th>50%</th>\n",
       "      <td>2016.000000</td>\n",
       "      <td>2.700000</td>\n",
       "      <td>1.030000e+05</td>\n",
       "      <td>58000.000000</td>\n",
       "    </tr>\n",
       "    <tr>\n",
       "      <th>75%</th>\n",
       "      <td>2018.000000</td>\n",
       "      <td>4.000000</td>\n",
       "      <td>1.830000e+05</td>\n",
       "      <td>94000.000000</td>\n",
       "    </tr>\n",
       "    <tr>\n",
       "      <th>max</th>\n",
       "      <td>2021.000000</td>\n",
       "      <td>9.000000</td>\n",
       "      <td>2.000000e+07</td>\n",
       "      <td>850000.000000</td>\n",
       "    </tr>\n",
       "  </tbody>\n",
       "</table>\n",
       "</div>"
      ],
      "text/plain": [
       "              Year  Engine_Size       Mileage          Price\n",
       "count  3826.000000  3826.000000  3.826000e+03    3826.000000\n",
       "mean   2014.852065     3.179587  1.426446e+05   78015.813382\n",
       "std       5.109885     1.458512  3.783049e+05   72725.279149\n",
       "min    1963.000000     1.000000  1.000000e+02     500.000000\n",
       "25%    2013.000000     2.000000  4.800000e+04   35000.000000\n",
       "50%    2016.000000     2.700000  1.030000e+05   58000.000000\n",
       "75%    2018.000000     4.000000  1.830000e+05   94000.000000\n",
       "max    2021.000000     9.000000  2.000000e+07  850000.000000"
      ]
     },
     "metadata": {},
     "output_type": "display_data"
    },
    {
     "data": {
      "text/html": [
       "<div>\n",
       "<style scoped>\n",
       "    .dataframe tbody tr th:only-of-type {\n",
       "        vertical-align: middle;\n",
       "    }\n",
       "\n",
       "    .dataframe tbody tr th {\n",
       "        vertical-align: top;\n",
       "    }\n",
       "\n",
       "    .dataframe thead th {\n",
       "        text-align: right;\n",
       "    }\n",
       "</style>\n",
       "<table border=\"1\" class=\"dataframe\">\n",
       "  <thead>\n",
       "    <tr style=\"text-align: right;\">\n",
       "      <th></th>\n",
       "      <th>Type</th>\n",
       "      <th>Region</th>\n",
       "      <th>Make</th>\n",
       "      <th>Gear_Type</th>\n",
       "      <th>Origin</th>\n",
       "      <th>Options</th>\n",
       "    </tr>\n",
       "  </thead>\n",
       "  <tbody>\n",
       "    <tr>\n",
       "      <th>count</th>\n",
       "      <td>3826</td>\n",
       "      <td>3826</td>\n",
       "      <td>3826</td>\n",
       "      <td>3826</td>\n",
       "      <td>3826</td>\n",
       "      <td>3826</td>\n",
       "    </tr>\n",
       "    <tr>\n",
       "      <th>unique</th>\n",
       "      <td>320</td>\n",
       "      <td>27</td>\n",
       "      <td>56</td>\n",
       "      <td>2</td>\n",
       "      <td>4</td>\n",
       "      <td>3</td>\n",
       "    </tr>\n",
       "    <tr>\n",
       "      <th>top</th>\n",
       "      <td>Camry</td>\n",
       "      <td>Riyadh</td>\n",
       "      <td>Toyota</td>\n",
       "      <td>Automatic</td>\n",
       "      <td>Saudi</td>\n",
       "      <td>Full</td>\n",
       "    </tr>\n",
       "    <tr>\n",
       "      <th>freq</th>\n",
       "      <td>149</td>\n",
       "      <td>1616</td>\n",
       "      <td>889</td>\n",
       "      <td>3422</td>\n",
       "      <td>2895</td>\n",
       "      <td>1472</td>\n",
       "    </tr>\n",
       "  </tbody>\n",
       "</table>\n",
       "</div>"
      ],
      "text/plain": [
       "         Type  Region    Make  Gear_Type Origin Options\n",
       "count    3826    3826    3826       3826   3826    3826\n",
       "unique    320      27      56          2      4       3\n",
       "top     Camry  Riyadh  Toyota  Automatic  Saudi    Full\n",
       "freq      149    1616     889       3422   2895    1472"
      ]
     },
     "metadata": {},
     "output_type": "display_data"
    }
   ],
   "source": [
    "display(df2.describe(), df2.describe(include='object'))"
   ]
  },
  {
   "cell_type": "code",
   "execution_count": 152,
   "metadata": {},
   "outputs": [
    {
     "data": {
      "text/plain": [
       "Text(0.5, 1.0, 'Correlation Matrix')"
      ]
     },
     "execution_count": 152,
     "metadata": {},
     "output_type": "execute_result"
    },
    {
     "data": {
      "image/png": "[encoded data removed]",
      "text/plain": [
       "<Figure size 1080x864 with 2 Axes>"
      ]
     },
     "metadata": {
      "needs_background": "light"
     },
     "output_type": "display_data"
    }
   ],
   "source": [
    "plt.figure(figsize=(15, 12))\n",
    "palette=sns.diverging_palette(20, 220, n=256)\n",
    "corr = df2.corr(method='pearson')\n",
    "sns.heatmap(corr, annot=True, fmt='.2f', cmap=palette, square=True, linewidths=.5)\n",
    "plt.title('Correlation Matrix', size=15, weight='bold')"
   ]
  },
  {
   "cell_type": "markdown",
   "metadata": {},
   "source": [
    "#### Encoding"
   ]
  },
  {
   "cell_type": "code",
   "execution_count": 153,
   "metadata": {},
   "outputs": [],
   "source": [
    "from sklearn.compose import ColumnTransformer\n",
    "from sklearn.preprocessing import OneHotEncoder, LabelEncoder, OrdinalEncoder\n",
    "import category_encoders as ce\n",
    "from sklearn.model_selection import train_test_split\n"
   ]
  },
  {
   "cell_type": "code",
   "execution_count": 154,
   "metadata": {},
   "outputs": [
    {
     "data": {
      "text/plain": [
       "Index(['Type', 'Region', 'Make', 'Gear_Type', 'Origin', 'Options', 'Year',\n",
       "       'Engine_Size', 'Mileage', 'Price'],\n",
       "      dtype='object')"
      ]
     },
     "execution_count": 154,
     "metadata": {},
     "output_type": "execute_result"
    }
   ],
   "source": [
    "df2.columns"
   ]
  },
  {
   "cell_type": "code",
   "execution_count": 155,
   "metadata": {},
   "outputs": [],
   "source": [
    "import category_encoders as ce\n",
    "transformer = ColumnTransformer([\n",
    "    ('ordinal', ce.OrdinalEncoder(), ['Type', 'Region', 'Make', 'Gear_Type', 'Origin', 'Options'])\n",
    "], remainder='passthrough')"
   ]
  },
  {
   "cell_type": "code",
   "execution_count": 156,
   "metadata": {},
   "outputs": [],
   "source": [
    "x2 = df2.drop(columns=['Price'])\n",
    "y2 = df2['Price']\n"
   ]
  },
  {
   "cell_type": "code",
   "execution_count": 157,
   "metadata": {},
   "outputs": [],
   "source": [
    "# Data Splitting\n",
    "x2_train, x2_test, y2_train, y2_test= train_test_split(\n",
    "    x2,\n",
    "    y2,  \n",
    "    test_size=0.2,\n",
    "    random_state=42)"
   ]
  },
  {
   "cell_type": "code",
   "execution_count": 158,
   "metadata": {},
   "outputs": [
    {
     "data": {
      "text/html": [
       "<div>\n",
       "<style scoped>\n",
       "    .dataframe tbody tr th:only-of-type {\n",
       "        vertical-align: middle;\n",
       "    }\n",
       "\n",
       "    .dataframe tbody tr th {\n",
       "        vertical-align: top;\n",
       "    }\n",
       "\n",
       "    .dataframe thead th {\n",
       "        text-align: right;\n",
       "    }\n",
       "</style>\n",
       "<table border=\"1\" class=\"dataframe\">\n",
       "  <thead>\n",
       "    <tr style=\"text-align: right;\">\n",
       "      <th></th>\n",
       "      <th>Type</th>\n",
       "      <th>Region</th>\n",
       "      <th>Make</th>\n",
       "      <th>Gear_Type</th>\n",
       "      <th>Origin</th>\n",
       "      <th>Options</th>\n",
       "      <th>Year</th>\n",
       "      <th>Engine_Size</th>\n",
       "      <th>Mileage</th>\n",
       "    </tr>\n",
       "  </thead>\n",
       "  <tbody>\n",
       "    <tr>\n",
       "      <th>4606</th>\n",
       "      <td>Maxima</td>\n",
       "      <td>Riyadh</td>\n",
       "      <td>Nissan</td>\n",
       "      <td>Automatic</td>\n",
       "      <td>Saudi</td>\n",
       "      <td>Full</td>\n",
       "      <td>2017</td>\n",
       "      <td>1.0</td>\n",
       "      <td>860000</td>\n",
       "    </tr>\n",
       "    <tr>\n",
       "      <th>3366</th>\n",
       "      <td>Accent</td>\n",
       "      <td>Dammam</td>\n",
       "      <td>Hyundai</td>\n",
       "      <td>Automatic</td>\n",
       "      <td>Saudi</td>\n",
       "      <td>Standard</td>\n",
       "      <td>2017</td>\n",
       "      <td>1.4</td>\n",
       "      <td>102000</td>\n",
       "    </tr>\n",
       "    <tr>\n",
       "      <th>1223</th>\n",
       "      <td>Taurus</td>\n",
       "      <td>Qassim</td>\n",
       "      <td>Ford</td>\n",
       "      <td>Automatic</td>\n",
       "      <td>Saudi</td>\n",
       "      <td>Standard</td>\n",
       "      <td>2015</td>\n",
       "      <td>2.5</td>\n",
       "      <td>247000</td>\n",
       "    </tr>\n",
       "    <tr>\n",
       "      <th>1031</th>\n",
       "      <td>Sonata</td>\n",
       "      <td>Riyadh</td>\n",
       "      <td>Hyundai</td>\n",
       "      <td>Automatic</td>\n",
       "      <td>Saudi</td>\n",
       "      <td>Semi Full</td>\n",
       "      <td>2016</td>\n",
       "      <td>2.4</td>\n",
       "      <td>210000</td>\n",
       "    </tr>\n",
       "    <tr>\n",
       "      <th>4948</th>\n",
       "      <td>Civic</td>\n",
       "      <td>Jeddah</td>\n",
       "      <td>Honda</td>\n",
       "      <td>Automatic</td>\n",
       "      <td>Saudi</td>\n",
       "      <td>Semi Full</td>\n",
       "      <td>2018</td>\n",
       "      <td>1.6</td>\n",
       "      <td>91000</td>\n",
       "    </tr>\n",
       "  </tbody>\n",
       "</table>\n",
       "</div>"
      ],
      "text/plain": [
       "        Type  Region     Make  Gear_Type Origin    Options  Year  Engine_Size  \\\n",
       "4606  Maxima  Riyadh   Nissan  Automatic  Saudi       Full  2017          1.0   \n",
       "3366  Accent  Dammam  Hyundai  Automatic  Saudi   Standard  2017          1.4   \n",
       "1223  Taurus  Qassim     Ford  Automatic  Saudi   Standard  2015          2.5   \n",
       "1031  Sonata  Riyadh  Hyundai  Automatic  Saudi  Semi Full  2016          2.4   \n",
       "4948   Civic  Jeddah    Honda  Automatic  Saudi  Semi Full  2018          1.6   \n",
       "\n",
       "      Mileage  \n",
       "4606   860000  \n",
       "3366   102000  \n",
       "1223   247000  \n",
       "1031   210000  \n",
       "4948    91000  "
      ]
     },
     "execution_count": 158,
     "metadata": {},
     "output_type": "execute_result"
    }
   ],
   "source": [
    "pd.DataFrame(x2_train.head())"
   ]
  },
  {
   "cell_type": "code",
   "execution_count": 159,
   "metadata": {},
   "outputs": [
    {
     "data": {
      "text/html": [
       "<div>\n",
       "<style scoped>\n",
       "    .dataframe tbody tr th:only-of-type {\n",
       "        vertical-align: middle;\n",
       "    }\n",
       "\n",
       "    .dataframe tbody tr th {\n",
       "        vertical-align: top;\n",
       "    }\n",
       "\n",
       "    .dataframe thead th {\n",
       "        text-align: right;\n",
       "    }\n",
       "</style>\n",
       "<table border=\"1\" class=\"dataframe\">\n",
       "  <thead>\n",
       "    <tr style=\"text-align: right;\">\n",
       "      <th></th>\n",
       "      <th>ordinal__Type</th>\n",
       "      <th>ordinal__Region</th>\n",
       "      <th>ordinal__Make</th>\n",
       "      <th>ordinal__Gear_Type</th>\n",
       "      <th>ordinal__Origin</th>\n",
       "      <th>ordinal__Options</th>\n",
       "      <th>Year</th>\n",
       "      <th>Engine_Size</th>\n",
       "      <th>Mileage</th>\n",
       "    </tr>\n",
       "  </thead>\n",
       "  <tbody>\n",
       "    <tr>\n",
       "      <th>0</th>\n",
       "      <td>1.0</td>\n",
       "      <td>1.0</td>\n",
       "      <td>1.0</td>\n",
       "      <td>1.0</td>\n",
       "      <td>1.0</td>\n",
       "      <td>1.0</td>\n",
       "      <td>2017.0</td>\n",
       "      <td>1.0</td>\n",
       "      <td>860000.0</td>\n",
       "    </tr>\n",
       "    <tr>\n",
       "      <th>1</th>\n",
       "      <td>2.0</td>\n",
       "      <td>2.0</td>\n",
       "      <td>2.0</td>\n",
       "      <td>1.0</td>\n",
       "      <td>1.0</td>\n",
       "      <td>2.0</td>\n",
       "      <td>2017.0</td>\n",
       "      <td>1.4</td>\n",
       "      <td>102000.0</td>\n",
       "    </tr>\n",
       "    <tr>\n",
       "      <th>2</th>\n",
       "      <td>3.0</td>\n",
       "      <td>3.0</td>\n",
       "      <td>3.0</td>\n",
       "      <td>1.0</td>\n",
       "      <td>1.0</td>\n",
       "      <td>2.0</td>\n",
       "      <td>2015.0</td>\n",
       "      <td>2.5</td>\n",
       "      <td>247000.0</td>\n",
       "    </tr>\n",
       "    <tr>\n",
       "      <th>3</th>\n",
       "      <td>4.0</td>\n",
       "      <td>1.0</td>\n",
       "      <td>2.0</td>\n",
       "      <td>1.0</td>\n",
       "      <td>1.0</td>\n",
       "      <td>3.0</td>\n",
       "      <td>2016.0</td>\n",
       "      <td>2.4</td>\n",
       "      <td>210000.0</td>\n",
       "    </tr>\n",
       "    <tr>\n",
       "      <th>4</th>\n",
       "      <td>5.0</td>\n",
       "      <td>4.0</td>\n",
       "      <td>4.0</td>\n",
       "      <td>1.0</td>\n",
       "      <td>1.0</td>\n",
       "      <td>3.0</td>\n",
       "      <td>2018.0</td>\n",
       "      <td>1.6</td>\n",
       "      <td>91000.0</td>\n",
       "    </tr>\n",
       "  </tbody>\n",
       "</table>\n",
       "</div>"
      ],
      "text/plain": [
       "   ordinal__Type  ordinal__Region  ordinal__Make  ordinal__Gear_Type  \\\n",
       "0            1.0              1.0            1.0                 1.0   \n",
       "1            2.0              2.0            2.0                 1.0   \n",
       "2            3.0              3.0            3.0                 1.0   \n",
       "3            4.0              1.0            2.0                 1.0   \n",
       "4            5.0              4.0            4.0                 1.0   \n",
       "\n",
       "   ordinal__Origin  ordinal__Options    Year  Engine_Size   Mileage  \n",
       "0              1.0               1.0  2017.0          1.0  860000.0  \n",
       "1              1.0               2.0  2017.0          1.4  102000.0  \n",
       "2              1.0               2.0  2015.0          2.5  247000.0  \n",
       "3              1.0               3.0  2016.0          2.4  210000.0  \n",
       "4              1.0               3.0  2018.0          1.6   91000.0  "
      ]
     },
     "execution_count": 159,
     "metadata": {},
     "output_type": "execute_result"
    }
   ],
   "source": [
    "testing = pd.DataFrame(transformer.fit_transform(x2_train),columns=transformer.get_feature_names())\n",
    "testing.head()"
   ]
  },
  {
   "cell_type": "markdown",
   "metadata": {},
   "source": [
    "## Modelling dan Evaluasi"
   ]
  },
  {
   "cell_type": "markdown",
   "metadata": {},
   "source": [
    "Tahapan ini bertujuan untuk mendapatkan model dan parameter terbaik untuk gigunakan dalam mempredikisi nilai harga."
   ]
  },
  {
   "cell_type": "markdown",
   "metadata": {},
   "source": [
    "### Model Performance"
   ]
  },
  {
   "cell_type": "code",
   "execution_count": 160,
   "metadata": {},
   "outputs": [],
   "source": [
    "from sklearn.linear_model import LinearRegression\n",
    "from sklearn.neighbors import KNeighborsRegressor\n",
    "from sklearn.tree import DecisionTreeRegressor\n",
    "from sklearn.ensemble import RandomForestRegressor\n",
    "from xgboost.sklearn import XGBRegressor\n",
    "from sklearn.compose import TransformedTargetRegressor\n",
    "from sklearn.model_selection import StratifiedKFold, cross_val_score, KFold\n",
    "from sklearn.preprocessing import StandardScaler\n",
    "from sklearn.pipeline import Pipeline\n",
    "from sklearn.metrics import mean_squared_error,mean_absolute_error,mean_absolute_percentage_error\n",
    "\n",
    "# Definisi Algoritma\n",
    "lr = LinearRegression()\n",
    "knn = KNeighborsRegressor()\n",
    "dt = DecisionTreeRegressor(random_state=42)\n",
    "rf = RandomForestRegressor(random_state=42)\n",
    "xgb = XGBRegressor(random_state=42)\n",
    "\n",
    "log_lr = TransformedTargetRegressor(lr, func=np.log, inverse_func=np.exp)\n",
    "log_knn = TransformedTargetRegressor(knn, func=np.log, inverse_func=np.exp)\n",
    "log_dt = TransformedTargetRegressor(dt, func=np.log, inverse_func=np.exp)\n",
    "log_rf = TransformedTargetRegressor(rf, func=np.log, inverse_func=np.exp)\n",
    "log_xgb = TransformedTargetRegressor(xgb, func=np.log, inverse_func=np.exp)\n",
    "\n",
    "scaler = StandardScaler()\n",
    "models = [log_lr, log_knn, log_dt, log_rf, log_xgb]"
   ]
  },
  {
   "cell_type": "code",
   "execution_count": 161,
   "metadata": {},
   "outputs": [],
   "source": [
    "scoring = {'RMSE': 'neg_root_mean_squared_error', \n",
    "        \"MAE\" : 'neg_mean_absolute_error', \n",
    "        'MAPE' : 'neg_mean_absolute_percentage_error' }\n",
    "skor = {}\n",
    "for j in scoring:\n",
    "    crossval = KFold(n_splits=5, shuffle=True, random_state=1)\n",
    "    skor[j] = {}\n",
    "    e = {}\n",
    "    for i in models:\n",
    "        idx = str(i.regressor ).split(\"(\")[0]\n",
    "        estimator_opsi = Pipeline([\n",
    "            ('preprocessing', transformer),\n",
    "            ('scaler', scaler),\n",
    "            ('model', i)\n",
    "            ])\n",
    "        model = cross_val_score(\n",
    "            estimator_opsi, \n",
    "            x2_train, \n",
    "            y2_train, \n",
    "            cv=crossval, \n",
    "            scoring= scoring[j], \n",
    "            error_score='raise'\n",
    "        )\n",
    "        e[idx] = model\n",
    "        skor[j].update (e)\n",
    "\n"
   ]
  },
  {
   "cell_type": "code",
   "execution_count": 162,
   "metadata": {},
   "outputs": [
    {
     "name": "stdout",
     "output_type": "stream",
     "text": [
      "RMSE\n"
     ]
    },
    {
     "data": {
      "text/html": [
       "<div>\n",
       "<style scoped>\n",
       "    .dataframe tbody tr th:only-of-type {\n",
       "        vertical-align: middle;\n",
       "    }\n",
       "\n",
       "    .dataframe tbody tr th {\n",
       "        vertical-align: top;\n",
       "    }\n",
       "\n",
       "    .dataframe thead th {\n",
       "        text-align: right;\n",
       "    }\n",
       "</style>\n",
       "<table border=\"1\" class=\"dataframe\">\n",
       "  <thead>\n",
       "    <tr style=\"text-align: right;\">\n",
       "      <th></th>\n",
       "      <th>LinearRegression</th>\n",
       "      <th>KNeighborsRegressor</th>\n",
       "      <th>DecisionTreeRegressor</th>\n",
       "      <th>RandomForestRegressor</th>\n",
       "      <th>XGBRegressor</th>\n",
       "    </tr>\n",
       "  </thead>\n",
       "  <tbody>\n",
       "    <tr>\n",
       "      <th>0</th>\n",
       "      <td>-57934.454678</td>\n",
       "      <td>-49944.706934</td>\n",
       "      <td>-50021.618631</td>\n",
       "      <td>-40212.455966</td>\n",
       "      <td>-37818.219780</td>\n",
       "    </tr>\n",
       "    <tr>\n",
       "      <th>1</th>\n",
       "      <td>-59658.740990</td>\n",
       "      <td>-52651.757926</td>\n",
       "      <td>-59073.476043</td>\n",
       "      <td>-41402.259328</td>\n",
       "      <td>-49075.988130</td>\n",
       "    </tr>\n",
       "    <tr>\n",
       "      <th>2</th>\n",
       "      <td>-61295.573033</td>\n",
       "      <td>-55931.529544</td>\n",
       "      <td>-47891.921201</td>\n",
       "      <td>-41880.704909</td>\n",
       "      <td>-36250.866837</td>\n",
       "    </tr>\n",
       "    <tr>\n",
       "      <th>3</th>\n",
       "      <td>-49111.179326</td>\n",
       "      <td>-42335.441027</td>\n",
       "      <td>-50105.326031</td>\n",
       "      <td>-31040.345058</td>\n",
       "      <td>-32581.004087</td>\n",
       "    </tr>\n",
       "    <tr>\n",
       "      <th>4</th>\n",
       "      <td>-58663.891288</td>\n",
       "      <td>-47155.387239</td>\n",
       "      <td>-47034.190101</td>\n",
       "      <td>-34818.577508</td>\n",
       "      <td>-35789.970204</td>\n",
       "    </tr>\n",
       "  </tbody>\n",
       "</table>\n",
       "</div>"
      ],
      "text/plain": [
       "   LinearRegression  KNeighborsRegressor  DecisionTreeRegressor  \\\n",
       "0     -57934.454678        -49944.706934          -50021.618631   \n",
       "1     -59658.740990        -52651.757926          -59073.476043   \n",
       "2     -61295.573033        -55931.529544          -47891.921201   \n",
       "3     -49111.179326        -42335.441027          -50105.326031   \n",
       "4     -58663.891288        -47155.387239          -47034.190101   \n",
       "\n",
       "   RandomForestRegressor  XGBRegressor  \n",
       "0          -40212.455966 -37818.219780  \n",
       "1          -41402.259328 -49075.988130  \n",
       "2          -41880.704909 -36250.866837  \n",
       "3          -31040.345058 -32581.004087  \n",
       "4          -34818.577508 -35789.970204  "
      ]
     },
     "metadata": {},
     "output_type": "display_data"
    },
    {
     "name": "stdout",
     "output_type": "stream",
     "text": [
      "MAE\n"
     ]
    },
    {
     "data": {
      "text/html": [
       "<div>\n",
       "<style scoped>\n",
       "    .dataframe tbody tr th:only-of-type {\n",
       "        vertical-align: middle;\n",
       "    }\n",
       "\n",
       "    .dataframe tbody tr th {\n",
       "        vertical-align: top;\n",
       "    }\n",
       "\n",
       "    .dataframe thead th {\n",
       "        text-align: right;\n",
       "    }\n",
       "</style>\n",
       "<table border=\"1\" class=\"dataframe\">\n",
       "  <thead>\n",
       "    <tr style=\"text-align: right;\">\n",
       "      <th></th>\n",
       "      <th>LinearRegression</th>\n",
       "      <th>KNeighborsRegressor</th>\n",
       "      <th>DecisionTreeRegressor</th>\n",
       "      <th>RandomForestRegressor</th>\n",
       "      <th>XGBRegressor</th>\n",
       "    </tr>\n",
       "  </thead>\n",
       "  <tbody>\n",
       "    <tr>\n",
       "      <th>0</th>\n",
       "      <td>-32681.416759</td>\n",
       "      <td>-27478.901815</td>\n",
       "      <td>-24417.471424</td>\n",
       "      <td>-18872.355652</td>\n",
       "      <td>-19092.244898</td>\n",
       "    </tr>\n",
       "    <tr>\n",
       "      <th>1</th>\n",
       "      <td>-31974.837680</td>\n",
       "      <td>-27278.207022</td>\n",
       "      <td>-28708.669516</td>\n",
       "      <td>-19543.615465</td>\n",
       "      <td>-20656.277469</td>\n",
       "    </tr>\n",
       "    <tr>\n",
       "      <th>2</th>\n",
       "      <td>-31134.202169</td>\n",
       "      <td>-26853.804409</td>\n",
       "      <td>-24106.559171</td>\n",
       "      <td>-18605.715956</td>\n",
       "      <td>-18127.124370</td>\n",
       "    </tr>\n",
       "    <tr>\n",
       "      <th>3</th>\n",
       "      <td>-29915.639451</td>\n",
       "      <td>-23912.050236</td>\n",
       "      <td>-26800.571407</td>\n",
       "      <td>-17256.113991</td>\n",
       "      <td>-17582.419561</td>\n",
       "    </tr>\n",
       "    <tr>\n",
       "      <th>4</th>\n",
       "      <td>-32511.790756</td>\n",
       "      <td>-27340.379336</td>\n",
       "      <td>-23730.281266</td>\n",
       "      <td>-19003.387672</td>\n",
       "      <td>-18685.040389</td>\n",
       "    </tr>\n",
       "  </tbody>\n",
       "</table>\n",
       "</div>"
      ],
      "text/plain": [
       "   LinearRegression  KNeighborsRegressor  DecisionTreeRegressor  \\\n",
       "0     -32681.416759        -27478.901815          -24417.471424   \n",
       "1     -31974.837680        -27278.207022          -28708.669516   \n",
       "2     -31134.202169        -26853.804409          -24106.559171   \n",
       "3     -29915.639451        -23912.050236          -26800.571407   \n",
       "4     -32511.790756        -27340.379336          -23730.281266   \n",
       "\n",
       "   RandomForestRegressor  XGBRegressor  \n",
       "0          -18872.355652 -19092.244898  \n",
       "1          -19543.615465 -20656.277469  \n",
       "2          -18605.715956 -18127.124370  \n",
       "3          -17256.113991 -17582.419561  \n",
       "4          -19003.387672 -18685.040389  "
      ]
     },
     "metadata": {},
     "output_type": "display_data"
    },
    {
     "name": "stdout",
     "output_type": "stream",
     "text": [
      "MAPE\n"
     ]
    },
    {
     "data": {
      "text/html": [
       "<div>\n",
       "<style scoped>\n",
       "    .dataframe tbody tr th:only-of-type {\n",
       "        vertical-align: middle;\n",
       "    }\n",
       "\n",
       "    .dataframe tbody tr th {\n",
       "        vertical-align: top;\n",
       "    }\n",
       "\n",
       "    .dataframe thead th {\n",
       "        text-align: right;\n",
       "    }\n",
       "</style>\n",
       "<table border=\"1\" class=\"dataframe\">\n",
       "  <thead>\n",
       "    <tr style=\"text-align: right;\">\n",
       "      <th></th>\n",
       "      <th>LinearRegression</th>\n",
       "      <th>KNeighborsRegressor</th>\n",
       "      <th>DecisionTreeRegressor</th>\n",
       "      <th>RandomForestRegressor</th>\n",
       "      <th>XGBRegressor</th>\n",
       "    </tr>\n",
       "  </thead>\n",
       "  <tbody>\n",
       "    <tr>\n",
       "      <th>0</th>\n",
       "      <td>-1.167356</td>\n",
       "      <td>-1.249321</td>\n",
       "      <td>-1.040292</td>\n",
       "      <td>-0.958835</td>\n",
       "      <td>-0.984487</td>\n",
       "    </tr>\n",
       "    <tr>\n",
       "      <th>1</th>\n",
       "      <td>-0.782750</td>\n",
       "      <td>-0.656147</td>\n",
       "      <td>-0.906902</td>\n",
       "      <td>-0.602499</td>\n",
       "      <td>-0.502001</td>\n",
       "    </tr>\n",
       "    <tr>\n",
       "      <th>2</th>\n",
       "      <td>-0.721572</td>\n",
       "      <td>-0.684882</td>\n",
       "      <td>-0.777581</td>\n",
       "      <td>-0.538256</td>\n",
       "      <td>-0.528939</td>\n",
       "    </tr>\n",
       "    <tr>\n",
       "      <th>3</th>\n",
       "      <td>-1.086866</td>\n",
       "      <td>-1.155092</td>\n",
       "      <td>-1.251713</td>\n",
       "      <td>-1.001229</td>\n",
       "      <td>-0.937418</td>\n",
       "    </tr>\n",
       "    <tr>\n",
       "      <th>4</th>\n",
       "      <td>-1.052142</td>\n",
       "      <td>-0.934132</td>\n",
       "      <td>-0.836427</td>\n",
       "      <td>-0.755470</td>\n",
       "      <td>-0.678777</td>\n",
       "    </tr>\n",
       "  </tbody>\n",
       "</table>\n",
       "</div>"
      ],
      "text/plain": [
       "   LinearRegression  KNeighborsRegressor  DecisionTreeRegressor  \\\n",
       "0         -1.167356            -1.249321              -1.040292   \n",
       "1         -0.782750            -0.656147              -0.906902   \n",
       "2         -0.721572            -0.684882              -0.777581   \n",
       "3         -1.086866            -1.155092              -1.251713   \n",
       "4         -1.052142            -0.934132              -0.836427   \n",
       "\n",
       "   RandomForestRegressor  XGBRegressor  \n",
       "0              -0.958835     -0.984487  \n",
       "1              -0.602499     -0.502001  \n",
       "2              -0.538256     -0.528939  \n",
       "3              -1.001229     -0.937418  \n",
       "4              -0.755470     -0.678777  "
      ]
     },
     "metadata": {},
     "output_type": "display_data"
    },
    {
     "name": "stdout",
     "output_type": "stream",
     "text": [
      "Matrix Evaluasi\n"
     ]
    },
    {
     "data": {
      "text/html": [
       "<div>\n",
       "<style scoped>\n",
       "    .dataframe tbody tr th:only-of-type {\n",
       "        vertical-align: middle;\n",
       "    }\n",
       "\n",
       "    .dataframe tbody tr th {\n",
       "        vertical-align: top;\n",
       "    }\n",
       "\n",
       "    .dataframe thead th {\n",
       "        text-align: right;\n",
       "    }\n",
       "</style>\n",
       "<table border=\"1\" class=\"dataframe\">\n",
       "  <thead>\n",
       "    <tr style=\"text-align: right;\">\n",
       "      <th></th>\n",
       "      <th>Std_RMSE</th>\n",
       "      <th>Mean_RMSE</th>\n",
       "      <th>Std_MAE</th>\n",
       "      <th>Mean_MAE</th>\n",
       "      <th>Std_MAPE</th>\n",
       "      <th>Mean_MAPE</th>\n",
       "    </tr>\n",
       "  </thead>\n",
       "  <tbody>\n",
       "    <tr>\n",
       "      <th>LinearRegression</th>\n",
       "      <td>4262.450245</td>\n",
       "      <td>-57332.767863</td>\n",
       "      <td>1018.417500</td>\n",
       "      <td>-31643.577363</td>\n",
       "      <td>0.176536</td>\n",
       "      <td>-0.962137</td>\n",
       "    </tr>\n",
       "    <tr>\n",
       "      <th>KNeighborsRegressor</th>\n",
       "      <td>4653.390021</td>\n",
       "      <td>-49603.764534</td>\n",
       "      <td>1346.577165</td>\n",
       "      <td>-26572.668563</td>\n",
       "      <td>0.239813</td>\n",
       "      <td>-0.935915</td>\n",
       "    </tr>\n",
       "    <tr>\n",
       "      <th>DecisionTreeRegressor</th>\n",
       "      <td>4293.574262</td>\n",
       "      <td>-50825.306401</td>\n",
       "      <td>1908.853263</td>\n",
       "      <td>-25552.710557</td>\n",
       "      <td>0.169042</td>\n",
       "      <td>-0.962583</td>\n",
       "    </tr>\n",
       "    <tr>\n",
       "      <th>RandomForestRegressor</th>\n",
       "      <td>4242.760230</td>\n",
       "      <td>-37870.868554</td>\n",
       "      <td>763.879338</td>\n",
       "      <td>-18656.237747</td>\n",
       "      <td>0.184982</td>\n",
       "      <td>-0.771258</td>\n",
       "    </tr>\n",
       "    <tr>\n",
       "      <th>XGBRegressor</th>\n",
       "      <td>5649.072338</td>\n",
       "      <td>-38303.209808</td>\n",
       "      <td>1046.475673</td>\n",
       "      <td>-18828.621337</td>\n",
       "      <td>0.201371</td>\n",
       "      <td>-0.726324</td>\n",
       "    </tr>\n",
       "  </tbody>\n",
       "</table>\n",
       "</div>"
      ],
      "text/plain": [
       "                          Std_RMSE     Mean_RMSE      Std_MAE      Mean_MAE  \\\n",
       "LinearRegression       4262.450245 -57332.767863  1018.417500 -31643.577363   \n",
       "KNeighborsRegressor    4653.390021 -49603.764534  1346.577165 -26572.668563   \n",
       "DecisionTreeRegressor  4293.574262 -50825.306401  1908.853263 -25552.710557   \n",
       "RandomForestRegressor  4242.760230 -37870.868554   763.879338 -18656.237747   \n",
       "XGBRegressor           5649.072338 -38303.209808  1046.475673 -18828.621337   \n",
       "\n",
       "                       Std_MAPE  Mean_MAPE  \n",
       "LinearRegression       0.176536  -0.962137  \n",
       "KNeighborsRegressor    0.239813  -0.935915  \n",
       "DecisionTreeRegressor  0.169042  -0.962583  \n",
       "RandomForestRegressor  0.184982  -0.771258  \n",
       "XGBRegressor           0.201371  -0.726324  "
      ]
     },
     "metadata": {},
     "output_type": "display_data"
    }
   ],
   "source": [
    "for i in skor:\n",
    "    data = pd.DataFrame(skor[i])\n",
    "    print(i)\n",
    "    display (data)\n",
    "mat = {}\n",
    "for i in skor:\n",
    "    b = {}\n",
    "    c = {'Mean' , 'Std' }\n",
    "    for j in c:\n",
    "        text = j + \"_\" + i\n",
    "        mat[text] = {}\n",
    "        for k in skor[i]:\n",
    "            rata2 =  (skor[i][k].mean())\n",
    "            std =  (skor[i][k].std())\n",
    "            if j == 'Mean':\n",
    "                a = rata2\n",
    "            else:\n",
    "                a = std\n",
    "            b[k] = a\n",
    "            mat[text].update(b)\n",
    "\n",
    "matrix = pd.DataFrame(mat)\n",
    "print ('Matrix Evaluasi')\n",
    "display(matrix)"
   ]
  },
  {
   "cell_type": "markdown",
   "metadata": {},
   "source": [
    "Terdapat 2 model dengan nilai terbaik, dimana nilai RMSE dan MAE terbaik adalah model *Random Forest Regressor*, Sedangkan nilai MAPE terbaik adalah model *XGBoost*. Untuk mengetahui model terbaik selanjutnya akan dilakukan *Test Set Predictions* dengan menggunakan 2 modle terbaik."
   ]
  },
  {
   "cell_type": "markdown",
   "metadata": {},
   "source": [
    "Prediksi Test Set"
   ]
  },
  {
   "cell_type": "code",
   "execution_count": 174,
   "metadata": {},
   "outputs": [
    {
     "data": {
      "text/html": [
       "<div>\n",
       "<style scoped>\n",
       "    .dataframe tbody tr th:only-of-type {\n",
       "        vertical-align: middle;\n",
       "    }\n",
       "\n",
       "    .dataframe tbody tr th {\n",
       "        vertical-align: top;\n",
       "    }\n",
       "\n",
       "    .dataframe thead th {\n",
       "        text-align: right;\n",
       "    }\n",
       "</style>\n",
       "<table border=\"1\" class=\"dataframe\">\n",
       "  <thead>\n",
       "    <tr style=\"text-align: right;\">\n",
       "      <th></th>\n",
       "      <th>RMSE</th>\n",
       "      <th>MAE</th>\n",
       "      <th>MAPE</th>\n",
       "    </tr>\n",
       "    <tr>\n",
       "      <th>model</th>\n",
       "      <th></th>\n",
       "      <th></th>\n",
       "      <th></th>\n",
       "    </tr>\n",
       "  </thead>\n",
       "  <tbody>\n",
       "    <tr>\n",
       "      <th>Random Forest</th>\n",
       "      <td>1.548257e+09</td>\n",
       "      <td>18956.25</td>\n",
       "      <td>1.35</td>\n",
       "    </tr>\n",
       "    <tr>\n",
       "      <th>XGBoost</th>\n",
       "      <td>1.551473e+09</td>\n",
       "      <td>19874.30</td>\n",
       "      <td>1.36</td>\n",
       "    </tr>\n",
       "  </tbody>\n",
       "</table>\n",
       "</div>"
      ],
      "text/plain": [
       "                       RMSE       MAE  MAPE\n",
       "model                                      \n",
       "Random Forest  1.548257e+09  18956.25  1.35\n",
       "XGBoost        1.551473e+09  19874.30  1.36"
      ]
     },
     "execution_count": 174,
     "metadata": {},
     "output_type": "execute_result"
    }
   ],
   "source": [
    "nilai_mse= []\n",
    "nilai_mae= []\n",
    "nilai_mape= []\n",
    "\n",
    "models2 = [log_xgb, log_rf]\n",
    "\n",
    "for i in models2:\n",
    "    estimator_opsi = Pipeline([\n",
    "        ('preprocessing', transformer),\n",
    "        ('scaler', scaler),\n",
    "        ('model', i)\n",
    "           ])\n",
    "    estimator_opsi.fit(x2_train,y2_train)\n",
    "    prediksi = estimator_opsi.predict(x2_test)\n",
    "    mse=mean_squared_error(y2_test,prediksi)\n",
    "    mae=mean_absolute_error(y2_test,prediksi)\n",
    "    mape=mean_absolute_percentage_error(y2_test,prediksi)\n",
    "    nilai_mse.append(round(mse,2))\n",
    "    nilai_mae.append(round(mae,2))\n",
    "    nilai_mape.append(round(mape,2))\n",
    "\n",
    "tabel_1 = pd.DataFrame({'model':[ 'XGBoost', 'Random Forest'],\n",
    "            'RMSE':nilai_mse,'MAE':nilai_mae,'MAPE':nilai_mape}).set_index('model').sort_values(by='MAPE',ascending=True)\n",
    "\n",
    "tabel_1"
   ]
  },
  {
   "cell_type": "markdown",
   "metadata": {},
   "source": [
    "Dapat terlihat bahwa Random forrest merupakan model terbaik, dapat di lihat dari *test set prediction* diatas bahwa *random forest* memiliki nilai RMSE, MAE dan MAPE lebih kecil dari *decission tree*."
   ]
  },
  {
   "cell_type": "markdown",
   "metadata": {},
   "source": [
    "### Hyperparameter Tunning"
   ]
  },
  {
   "cell_type": "markdown",
   "metadata": {},
   "source": [
    "**Random Forest** memiliki performance paling tinggi dibandingkan dengan model yang lainnya. Tahapan ini untuk mencari parameter terbaik untuk model (*Hyperparameter Tunning*), maka pemodelan akan menggunakan Random Forest. "
   ]
  },
  {
   "cell_type": "code",
   "execution_count": 164,
   "metadata": {},
   "outputs": [],
   "source": [
    "from sklearn.model_selection import RandomizedSearchCV\n",
    "from sklearn.pipeline import Pipeline\n",
    "from sklearn.model_selection import KFold\n",
    "\n",
    "parameters = {'Forest__n_estimators': [200, 400, 600, 800, 1000, 1200, 1400, 1600, 1800, 2000],\n",
    "              'Forest__max_features': ['auto', 'sqrt','log2',None],\n",
    "              'Forest__min_samples_split': [2, 5, 10],\n",
    "              'Forest__min_samples_leaf': [1, 2, 4],\n",
    "              'Forest__bootstrap': [True, False],\n",
    "              'Forest__warm_start': [True, False]}\n",
    "\n",
    "steps = [('preprocessing', transformer),\n",
    "        ('scaler', StandardScaler()), \n",
    "        ('Forest', RandomForestRegressor(random_state=42))]\n",
    "pipeline2 = Pipeline(steps)\n",
    "crossval = KFold(n_splits=5, shuffle=True, random_state=42)"
   ]
  },
  {
   "cell_type": "code",
   "execution_count": 165,
   "metadata": {},
   "outputs": [
    {
     "name": "stdout",
     "output_type": "stream",
     "text": [
      "Fitting 5 folds for each of 100 candidates, totalling 500 fits\n"
     ]
    },
    {
     "data": {
      "text/html": [
       "<style>#sk-container-id-1 {color: black;background-color: white;}#sk-container-id-1 pre{padding: 0;}#sk-container-id-1 div.sk-toggleable {background-color: white;}#sk-container-id-1 label.sk-toggleable__label {cursor: pointer;display: block;width: 100%;margin-bottom: 0;padding: 0.3em;box-sizing: border-box;text-align: center;}#sk-container-id-1 label.sk-toggleable__label-arrow:before {content: \"▸\";float: left;margin-right: 0.25em;color: #696969;}#sk-container-id-1 label.sk-toggleable__label-arrow:hover:before {color: black;}#sk-container-id-1 div.sk-estimator:hover label.sk-toggleable__label-arrow:before {color: black;}#sk-container-id-1 div.sk-toggleable__content {max-height: 0;max-width: 0;overflow: hidden;text-align: left;background-color: #f0f8ff;}#sk-container-id-1 div.sk-toggleable__content pre {margin: 0.2em;color: black;border-radius: 0.25em;background-color: #f0f8ff;}#sk-container-id-1 input.sk-toggleable__control:checked~div.sk-toggleable__content {max-height: 200px;max-width: 100%;overflow: auto;}#sk-container-id-1 input.sk-toggleable__control:checked~label.sk-toggleable__label-arrow:before {content: \"▾\";}#sk-container-id-1 div.sk-estimator input.sk-toggleable__control:checked~label.sk-toggleable__label {background-color: #d4ebff;}#sk-container-id-1 div.sk-label input.sk-toggleable__control:checked~label.sk-toggleable__label {background-color: #d4ebff;}#sk-container-id-1 input.sk-hidden--visually {border: 0;clip: rect(1px 1px 1px 1px);clip: rect(1px, 1px, 1px, 1px);height: 1px;margin: -1px;overflow: hidden;padding: 0;position: absolute;width: 1px;}#sk-container-id-1 div.sk-estimator {font-family: monospace;background-color: #f0f8ff;border: 1px dotted black;border-radius: 0.25em;box-sizing: border-box;margin-bottom: 0.5em;}#sk-container-id-1 div.sk-estimator:hover {background-color: #d4ebff;}#sk-container-id-1 div.sk-parallel-item::after {content: \"\";width: 100%;border-bottom: 1px solid gray;flex-grow: 1;}#sk-container-id-1 div.sk-label:hover label.sk-toggleable__label {background-color: #d4ebff;}#sk-container-id-1 div.sk-serial::before {content: \"\";position: absolute;border-left: 1px solid gray;box-sizing: border-box;top: 0;bottom: 0;left: 50%;z-index: 0;}#sk-container-id-1 div.sk-serial {display: flex;flex-direction: column;align-items: center;background-color: white;padding-right: 0.2em;padding-left: 0.2em;position: relative;}#sk-container-id-1 div.sk-item {position: relative;z-index: 1;}#sk-container-id-1 div.sk-parallel {display: flex;align-items: stretch;justify-content: center;background-color: white;position: relative;}#sk-container-id-1 div.sk-item::before, #sk-container-id-1 div.sk-parallel-item::before {content: \"\";position: absolute;border-left: 1px solid gray;box-sizing: border-box;top: 0;bottom: 0;left: 50%;z-index: -1;}#sk-container-id-1 div.sk-parallel-item {display: flex;flex-direction: column;z-index: 1;position: relative;background-color: white;}#sk-container-id-1 div.sk-parallel-item:first-child::after {align-self: flex-end;width: 50%;}#sk-container-id-1 div.sk-parallel-item:last-child::after {align-self: flex-start;width: 50%;}#sk-container-id-1 div.sk-parallel-item:only-child::after {width: 0;}#sk-container-id-1 div.sk-dashed-wrapped {border: 1px dashed gray;margin: 0 0.4em 0.5em 0.4em;box-sizing: border-box;padding-bottom: 0.4em;background-color: white;}#sk-container-id-1 div.sk-label label {font-family: monospace;font-weight: bold;display: inline-block;line-height: 1.2em;}#sk-container-id-1 div.sk-label-container {text-align: center;}#sk-container-id-1 div.sk-container {/* jupyter's `normalize.less` sets `[hidden] { display: none; }` but bootstrap.min.css set `[hidden] { display: none !important; }` so we also need the `!important` here to be able to override the default hidden behavior on the sphinx rendered scikit-learn.org. See: https://github.com/scikit-learn/scikit-learn/issues/21755 */display: inline-block !important;position: relative;}#sk-container-id-1 div.sk-text-repr-fallback {display: none;}</style><div id=\"sk-container-id-1\" class=\"sk-top-container\"><div class=\"sk-text-repr-fallback\"><pre>RandomizedSearchCV(cv=KFold(n_splits=5, random_state=42, shuffle=True),\n",
       "                   estimator=Pipeline(steps=[(&#x27;preprocessing&#x27;,\n",
       "                                              ColumnTransformer(remainder=&#x27;passthrough&#x27;,\n",
       "                                                                transformers=[(&#x27;ordinal&#x27;,\n",
       "                                                                               OrdinalEncoder(),\n",
       "                                                                               [&#x27;Type&#x27;,\n",
       "                                                                                &#x27;Region&#x27;,\n",
       "                                                                                &#x27;Make&#x27;,\n",
       "                                                                                &#x27;Gear_Type&#x27;,\n",
       "                                                                                &#x27;Origin&#x27;,\n",
       "                                                                                &#x27;Options&#x27;])])),\n",
       "                                             (&#x27;scaler&#x27;, StandardScaler()),\n",
       "                                             (&#x27;Forest&#x27;,\n",
       "                                              RandomForestRegressor(random_state=42))]),\n",
       "                   n_iter=100, n_j...\n",
       "                                                                 &#x27;log2&#x27;, None],\n",
       "                                        &#x27;Forest__min_samples_leaf&#x27;: [1, 2, 4],\n",
       "                                        &#x27;Forest__min_samples_split&#x27;: [2, 5, 10],\n",
       "                                        &#x27;Forest__n_estimators&#x27;: [200, 400, 600,\n",
       "                                                                 800, 1000,\n",
       "                                                                 1200, 1400,\n",
       "                                                                 1600, 1800,\n",
       "                                                                 2000],\n",
       "                                        &#x27;Forest__warm_start&#x27;: [True, False]},\n",
       "                   random_state=42, refit=&#x27;neg_root_mean_squared_error&#x27;,\n",
       "                   scoring=[&#x27;neg_root_mean_squared_error&#x27;,\n",
       "                            &#x27;neg_mean_absolute_error&#x27;,\n",
       "                            &#x27;neg_mean_absolute_percentage_error&#x27;],\n",
       "                   verbose=2)</pre><b>In a Jupyter environment, please rerun this cell to show the HTML representation or trust the notebook. <br />On GitHub, the HTML representation is unable to render, please try loading this page with nbviewer.org.</b></div><div class=\"sk-container\" hidden><div class=\"sk-item sk-dashed-wrapped\"><div class=\"sk-label-container\"><div class=\"sk-label sk-toggleable\"><input class=\"sk-toggleable__control sk-hidden--visually\" id=\"sk-estimator-id-1\" type=\"checkbox\" ><label for=\"sk-estimator-id-1\" class=\"sk-toggleable__label sk-toggleable__label-arrow\">RandomizedSearchCV</label><div class=\"sk-toggleable__content\"><pre>RandomizedSearchCV(cv=KFold(n_splits=5, random_state=42, shuffle=True),\n",
       "                   estimator=Pipeline(steps=[(&#x27;preprocessing&#x27;,\n",
       "                                              ColumnTransformer(remainder=&#x27;passthrough&#x27;,\n",
       "                                                                transformers=[(&#x27;ordinal&#x27;,\n",
       "                                                                               OrdinalEncoder(),\n",
       "                                                                               [&#x27;Type&#x27;,\n",
       "                                                                                &#x27;Region&#x27;,\n",
       "                                                                                &#x27;Make&#x27;,\n",
       "                                                                                &#x27;Gear_Type&#x27;,\n",
       "                                                                                &#x27;Origin&#x27;,\n",
       "                                                                                &#x27;Options&#x27;])])),\n",
       "                                             (&#x27;scaler&#x27;, StandardScaler()),\n",
       "                                             (&#x27;Forest&#x27;,\n",
       "                                              RandomForestRegressor(random_state=42))]),\n",
       "                   n_iter=100, n_j...\n",
       "                                                                 &#x27;log2&#x27;, None],\n",
       "                                        &#x27;Forest__min_samples_leaf&#x27;: [1, 2, 4],\n",
       "                                        &#x27;Forest__min_samples_split&#x27;: [2, 5, 10],\n",
       "                                        &#x27;Forest__n_estimators&#x27;: [200, 400, 600,\n",
       "                                                                 800, 1000,\n",
       "                                                                 1200, 1400,\n",
       "                                                                 1600, 1800,\n",
       "                                                                 2000],\n",
       "                                        &#x27;Forest__warm_start&#x27;: [True, False]},\n",
       "                   random_state=42, refit=&#x27;neg_root_mean_squared_error&#x27;,\n",
       "                   scoring=[&#x27;neg_root_mean_squared_error&#x27;,\n",
       "                            &#x27;neg_mean_absolute_error&#x27;,\n",
       "                            &#x27;neg_mean_absolute_percentage_error&#x27;],\n",
       "                   verbose=2)</pre></div></div></div><div class=\"sk-parallel\"><div class=\"sk-parallel-item\"><div class=\"sk-item\"><div class=\"sk-label-container\"><div class=\"sk-label sk-toggleable\"><input class=\"sk-toggleable__control sk-hidden--visually\" id=\"sk-estimator-id-2\" type=\"checkbox\" ><label for=\"sk-estimator-id-2\" class=\"sk-toggleable__label sk-toggleable__label-arrow\">estimator: Pipeline</label><div class=\"sk-toggleable__content\"><pre>Pipeline(steps=[(&#x27;preprocessing&#x27;,\n",
       "                 ColumnTransformer(remainder=&#x27;passthrough&#x27;,\n",
       "                                   transformers=[(&#x27;ordinal&#x27;, OrdinalEncoder(),\n",
       "                                                  [&#x27;Type&#x27;, &#x27;Region&#x27;, &#x27;Make&#x27;,\n",
       "                                                   &#x27;Gear_Type&#x27;, &#x27;Origin&#x27;,\n",
       "                                                   &#x27;Options&#x27;])])),\n",
       "                (&#x27;scaler&#x27;, StandardScaler()),\n",
       "                (&#x27;Forest&#x27;, RandomForestRegressor(random_state=42))])</pre></div></div></div><div class=\"sk-serial\"><div class=\"sk-item\"><div class=\"sk-serial\"><div class=\"sk-item sk-dashed-wrapped\"><div class=\"sk-label-container\"><div class=\"sk-label sk-toggleable\"><input class=\"sk-toggleable__control sk-hidden--visually\" id=\"sk-estimator-id-3\" type=\"checkbox\" ><label for=\"sk-estimator-id-3\" class=\"sk-toggleable__label sk-toggleable__label-arrow\">preprocessing: ColumnTransformer</label><div class=\"sk-toggleable__content\"><pre>ColumnTransformer(remainder=&#x27;passthrough&#x27;,\n",
       "                  transformers=[(&#x27;ordinal&#x27;, OrdinalEncoder(),\n",
       "                                 [&#x27;Type&#x27;, &#x27;Region&#x27;, &#x27;Make&#x27;, &#x27;Gear_Type&#x27;,\n",
       "                                  &#x27;Origin&#x27;, &#x27;Options&#x27;])])</pre></div></div></div><div class=\"sk-parallel\"><div class=\"sk-parallel-item\"><div class=\"sk-item\"><div class=\"sk-label-container\"><div class=\"sk-label sk-toggleable\"><input class=\"sk-toggleable__control sk-hidden--visually\" id=\"sk-estimator-id-4\" type=\"checkbox\" ><label for=\"sk-estimator-id-4\" class=\"sk-toggleable__label sk-toggleable__label-arrow\">ordinal</label><div class=\"sk-toggleable__content\"><pre>[&#x27;Type&#x27;, &#x27;Region&#x27;, &#x27;Make&#x27;, &#x27;Gear_Type&#x27;, &#x27;Origin&#x27;, &#x27;Options&#x27;]</pre></div></div></div><div class=\"sk-serial\"><div class=\"sk-item\"><div class=\"sk-estimator sk-toggleable\"><input class=\"sk-toggleable__control sk-hidden--visually\" id=\"sk-estimator-id-5\" type=\"checkbox\" ><label for=\"sk-estimator-id-5\" class=\"sk-toggleable__label sk-toggleable__label-arrow\">OrdinalEncoder</label><div class=\"sk-toggleable__content\"><pre>OrdinalEncoder()</pre></div></div></div></div></div></div><div class=\"sk-parallel-item\"><div class=\"sk-item\"><div class=\"sk-label-container\"><div class=\"sk-label sk-toggleable\"><input class=\"sk-toggleable__control sk-hidden--visually\" id=\"sk-estimator-id-6\" type=\"checkbox\" ><label for=\"sk-estimator-id-6\" class=\"sk-toggleable__label sk-toggleable__label-arrow\">remainder</label><div class=\"sk-toggleable__content\"><pre>[&#x27;Year&#x27;, &#x27;Engine_Size&#x27;, &#x27;Mileage&#x27;]</pre></div></div></div><div class=\"sk-serial\"><div class=\"sk-item\"><div class=\"sk-estimator sk-toggleable\"><input class=\"sk-toggleable__control sk-hidden--visually\" id=\"sk-estimator-id-7\" type=\"checkbox\" ><label for=\"sk-estimator-id-7\" class=\"sk-toggleable__label sk-toggleable__label-arrow\">passthrough</label><div class=\"sk-toggleable__content\"><pre>passthrough</pre></div></div></div></div></div></div></div></div><div class=\"sk-item\"><div class=\"sk-estimator sk-toggleable\"><input class=\"sk-toggleable__control sk-hidden--visually\" id=\"sk-estimator-id-8\" type=\"checkbox\" ><label for=\"sk-estimator-id-8\" class=\"sk-toggleable__label sk-toggleable__label-arrow\">StandardScaler</label><div class=\"sk-toggleable__content\"><pre>StandardScaler()</pre></div></div></div><div class=\"sk-item\"><div class=\"sk-estimator sk-toggleable\"><input class=\"sk-toggleable__control sk-hidden--visually\" id=\"sk-estimator-id-9\" type=\"checkbox\" ><label for=\"sk-estimator-id-9\" class=\"sk-toggleable__label sk-toggleable__label-arrow\">RandomForestRegressor</label><div class=\"sk-toggleable__content\"><pre>RandomForestRegressor(random_state=42)</pre></div></div></div></div></div></div></div></div></div></div></div></div>"
      ],
      "text/plain": [
       "RandomizedSearchCV(cv=KFold(n_splits=5, random_state=42, shuffle=True),\n",
       "                   estimator=Pipeline(steps=[('preprocessing',\n",
       "                                              ColumnTransformer(remainder='passthrough',\n",
       "                                                                transformers=[('ordinal',\n",
       "                                                                               OrdinalEncoder(),\n",
       "                                                                               ['Type',\n",
       "                                                                                'Region',\n",
       "                                                                                'Make',\n",
       "                                                                                'Gear_Type',\n",
       "                                                                                'Origin',\n",
       "                                                                                'Options'])])),\n",
       "                                             ('scaler', StandardScaler()),\n",
       "                                             ('Forest',\n",
       "                                              RandomForestRegressor(random_state=42))]),\n",
       "                   n_iter=100, n_j...\n",
       "                                                                 'log2', None],\n",
       "                                        'Forest__min_samples_leaf': [1, 2, 4],\n",
       "                                        'Forest__min_samples_split': [2, 5, 10],\n",
       "                                        'Forest__n_estimators': [200, 400, 600,\n",
       "                                                                 800, 1000,\n",
       "                                                                 1200, 1400,\n",
       "                                                                 1600, 1800,\n",
       "                                                                 2000],\n",
       "                                        'Forest__warm_start': [True, False]},\n",
       "                   random_state=42, refit='neg_root_mean_squared_error',\n",
       "                   scoring=['neg_root_mean_squared_error',\n",
       "                            'neg_mean_absolute_error',\n",
       "                            'neg_mean_absolute_percentage_error'],\n",
       "                   verbose=2)"
      ]
     },
     "execution_count": 165,
     "metadata": {},
     "output_type": "execute_result"
    }
   ],
   "source": [
    "rf_random2 = RandomizedSearchCV(estimator = pipeline2, \n",
    "                                param_distributions = parameters, \n",
    "                                n_iter = 100, \n",
    "                                cv = crossval, \n",
    "                                verbose=2, \n",
    "                                scoring = ['neg_root_mean_squared_error', 'neg_mean_absolute_error', 'neg_mean_absolute_percentage_error'],\n",
    "                                random_state=42, \n",
    "                                refit = 'neg_root_mean_squared_error',\n",
    "                                n_jobs = -1)\n",
    "rf_random2.fit(x2_train, y2_train)"
   ]
  },
  {
   "cell_type": "code",
   "execution_count": 166,
   "metadata": {},
   "outputs": [
    {
     "data": {
      "text/html": [
       "<div>\n",
       "<style scoped>\n",
       "    .dataframe tbody tr th:only-of-type {\n",
       "        vertical-align: middle;\n",
       "    }\n",
       "\n",
       "    .dataframe tbody tr th {\n",
       "        vertical-align: top;\n",
       "    }\n",
       "\n",
       "    .dataframe thead th {\n",
       "        text-align: right;\n",
       "    }\n",
       "</style>\n",
       "<table border=\"1\" class=\"dataframe\">\n",
       "  <thead>\n",
       "    <tr style=\"text-align: right;\">\n",
       "      <th></th>\n",
       "      <th>Best Value</th>\n",
       "    </tr>\n",
       "    <tr>\n",
       "      <th>Parameter</th>\n",
       "      <th></th>\n",
       "    </tr>\n",
       "  </thead>\n",
       "  <tbody>\n",
       "    <tr>\n",
       "      <th>Forest__warm_start</th>\n",
       "      <td>False</td>\n",
       "    </tr>\n",
       "    <tr>\n",
       "      <th>Forest__n_estimators</th>\n",
       "      <td>1400</td>\n",
       "    </tr>\n",
       "    <tr>\n",
       "      <th>Forest__min_samples_split</th>\n",
       "      <td>5</td>\n",
       "    </tr>\n",
       "    <tr>\n",
       "      <th>Forest__min_samples_leaf</th>\n",
       "      <td>1</td>\n",
       "    </tr>\n",
       "    <tr>\n",
       "      <th>Forest__max_features</th>\n",
       "      <td>log2</td>\n",
       "    </tr>\n",
       "    <tr>\n",
       "      <th>Forest__bootstrap</th>\n",
       "      <td>False</td>\n",
       "    </tr>\n",
       "  </tbody>\n",
       "</table>\n",
       "</div>"
      ],
      "text/plain": [
       "                          Best Value\n",
       "Parameter                           \n",
       "Forest__warm_start             False\n",
       "Forest__n_estimators            1400\n",
       "Forest__min_samples_split          5\n",
       "Forest__min_samples_leaf           1\n",
       "Forest__max_features            log2\n",
       "Forest__bootstrap              False"
      ]
     },
     "execution_count": 166,
     "metadata": {},
     "output_type": "execute_result"
    }
   ],
   "source": [
    "pd.DataFrame({'Best Value' : rf_random2.best_params_.values(), 'Parameter' : rf_random2.best_params_.keys()}).set_index('Parameter')"
   ]
  },
  {
   "cell_type": "markdown",
   "metadata": {},
   "source": [
    "#### Evaluasi Parameter"
   ]
  },
  {
   "cell_type": "code",
   "execution_count": 167,
   "metadata": {},
   "outputs": [],
   "source": [
    "\n",
    "pipeline2.fit(x2_train, y2_train)\n",
    "prediksi_base = pipeline2.predict(x2_test)\n",
    "mape_base_model=mean_absolute_percentage_error(y2_test,prediksi_base)\n",
    "rmse_base = np.sqrt(mean_squared_error(y2_test, prediksi_base))\n",
    "mae_base = mean_absolute_error(y2_test, prediksi_base)\n",
    "\n",
    "\n",
    "akurasi_base_model = 100 - mape\n",
    "akurasi_base = round(akurasi_base_model,2)\n",
    "score_before_tuning = [ rmse_base, mae_base, mape_base_model]"
   ]
  },
  {
   "cell_type": "code",
   "execution_count": 168,
   "metadata": {},
   "outputs": [],
   "source": [
    "best_parameter = rf_random2.best_estimator_\n",
    "prediksi_best = best_parameter.predict(x2_test)\n",
    "mape_best_parameter=mean_absolute_percentage_error(y2_test,prediksi_best)\n",
    "rmse_best_param = np.sqrt(mean_squared_error(y2_test, prediksi_best))\n",
    "mae_best_param = mean_absolute_error(y2_test, prediksi_best)\n",
    "\n",
    "\n",
    "akurasi_best_parameter = 100 - mape_best_parameter\n",
    "akurasi_best_parameter = round(akurasi_best_parameter,2)\n",
    "score_after_tuning = [rmse_best_param, mae_best_param, mape_best_parameter]"
   ]
  },
  {
   "cell_type": "code",
   "execution_count": 169,
   "metadata": {},
   "outputs": [
    {
     "data": {
      "text/html": [
       "<div>\n",
       "<style scoped>\n",
       "    .dataframe tbody tr th:only-of-type {\n",
       "        vertical-align: middle;\n",
       "    }\n",
       "\n",
       "    .dataframe tbody tr th {\n",
       "        vertical-align: top;\n",
       "    }\n",
       "\n",
       "    .dataframe thead th {\n",
       "        text-align: right;\n",
       "    }\n",
       "</style>\n",
       "<table border=\"1\" class=\"dataframe\">\n",
       "  <thead>\n",
       "    <tr style=\"text-align: right;\">\n",
       "      <th></th>\n",
       "      <th>Base Model</th>\n",
       "      <th>Best Parameter</th>\n",
       "      <th>Selisih</th>\n",
       "    </tr>\n",
       "    <tr>\n",
       "      <th>Evaluasi</th>\n",
       "      <th></th>\n",
       "      <th></th>\n",
       "      <th></th>\n",
       "    </tr>\n",
       "  </thead>\n",
       "  <tbody>\n",
       "    <tr>\n",
       "      <th>RMSE</th>\n",
       "      <td>38401.779011</td>\n",
       "      <td>36960.890029</td>\n",
       "      <td>-1440.888981</td>\n",
       "    </tr>\n",
       "    <tr>\n",
       "      <th>MAE</th>\n",
       "      <td>19537.291902</td>\n",
       "      <td>18683.829536</td>\n",
       "      <td>-853.462366</td>\n",
       "    </tr>\n",
       "    <tr>\n",
       "      <th>MAPE</th>\n",
       "      <td>1.855452</td>\n",
       "      <td>1.833635</td>\n",
       "      <td>-0.021817</td>\n",
       "    </tr>\n",
       "  </tbody>\n",
       "</table>\n",
       "</div>"
      ],
      "text/plain": [
       "            Base Model  Best Parameter      Selisih\n",
       "Evaluasi                                           \n",
       "RMSE      38401.779011    36960.890029 -1440.888981\n",
       "MAE       19537.291902    18683.829536  -853.462366\n",
       "MAPE          1.855452        1.833635    -0.021817"
      ]
     },
     "execution_count": 169,
     "metadata": {},
     "output_type": "execute_result"
    }
   ],
   "source": [
    "model = ['RMSE', 'MAE', 'MAPE']\n",
    "matix = pd.DataFrame({'Evaluasi':model,\n",
    "            'Base Model':score_before_tuning,'Best Parameter':score_after_tuning}).set_index('Evaluasi')\n",
    "matix['Selisih'] = matix['Best Parameter'] - matix['Base Model']\n",
    "matix"
   ]
  },
  {
   "cell_type": "code",
   "execution_count": 170,
   "metadata": {},
   "outputs": [
    {
     "data": {
      "image/png": "[encoded data removed]",
      "text/plain": [
       "<Figure size 1008x576 with 1 Axes>"
      ]
     },
     "metadata": {
      "needs_background": "light"
     },
     "output_type": "display_data"
    }
   ],
   "source": [
    "plt.figure(figsize=(14, 8))\n",
    "plot = sns.scatterplot(x=y2_test, y=prediksi_best).set(title='Actual vs. Prediction Price', \n",
    "                                               xlabel='Actual Price', \n",
    "                                               ylabel='Predicted Price')"
   ]
  },
  {
   "cell_type": "markdown",
   "metadata": {},
   "source": [
    "Model sedikit mengalami peningkatan performance (nilai RMSE, MAPE dan MAE berkurang). Sehingga dapat dapat di ambil kesimpulan bahwa hyperparameter tunning yang dilakukan berpengaruh pada model dan akan digunakan dalam pemodelan. Dilihat pada chart diatas bahwa gradient antara harga real dan harga prediksi mendekati 1, jadi dikatakan bahwa model dapat memprediksi data dengan baik."
   ]
  },
  {
   "cell_type": "markdown",
   "metadata": {},
   "source": [
    "### Feature Importance"
   ]
  },
  {
   "cell_type": "code",
   "execution_count": 171,
   "metadata": {},
   "outputs": [
    {
     "data": {
      "text/plain": [
       "<AxesSubplot:title={'center':'Feature Importances'}>"
      ]
     },
     "execution_count": 171,
     "metadata": {},
     "output_type": "execute_result"
    },
    {
     "data": {
      "image/png": "[encoded data removed]",
      "text/plain": [
       "<Figure size 432x288 with 1 Axes>"
      ]
     },
     "metadata": {
      "needs_background": "light"
     },
     "output_type": "display_data"
    }
   ],
   "source": [
    "feature_importances = best_parameter._final_estimator.feature_importances_\n",
    "feature_imp = pd.Series(feature_importances, x2.columns).sort_values(ascending = False)\n",
    "feature_imp.plot(kind='barh', title='Feature Importances')"
   ]
  },
  {
   "cell_type": "markdown",
   "metadata": {},
   "source": [
    "Dari grafik diatas dapat dilihat bahwa Year menempati bobot tertinggi dengan 20.69%, sedangkan geartype hanya sedikit mempengaruhi terhadap predikis harga"
   ]
  },
  {
   "cell_type": "markdown",
   "metadata": {},
   "source": [
    "## Conclution & Evaluation"
   ]
  },
  {
   "cell_type": "markdown",
   "metadata": {},
   "source": [
    "### Conclusion"
   ]
  },
  {
   "cell_type": "markdown",
   "metadata": {},
   "source": [
    "Berdasarkan pemodelan yang dilakukan fitur *year* menjadi fitur yang paling berpengaruh dalam menentukan harga. \n",
    "\n",
    "Metrik evaluasi yang digunakan pada model adalah nilai RMSE, MAE dan MAPE. Dilihat dari nilai akurasinya model memiliki nilai MAPE 1.833635 dengan rentang harga yang bisa di akomodir oleh model sampai dengan 850000.\n",
    "\n",
    "Model yang dihasilkan cukup baik dapat dilihat dari harga aktual dan prediksi dengan distribusi data dengan gradien mendekati 1,artinya bahwa tidak banyak nilai prediksi yang berjauhan dari nilai aslinya.\n",
    "\n",
    "Model ini tentu masih dapat diimporvisasi agar dapat menghasilkan prediksi yang lebih baik lagi. Namun, kita dapat melakukan A/B testing terhadap model yang sudah dibuat pada project ini untuk mengetahui tingkat efektifitas penggunaan model terhadap peningkatan jumlah penjualan. Nantinya, dari hasil A/B testing, kita bisa mendapatkan insight lainnya terkait perihal yang bisa dan harus diperbaiki pada model.\n",
    "\n",
    "Model yang sudah dibangun ini bisa dimanfaatkan untuk pengembangan pembuatan model lainnya."
   ]
  },
  {
   "cell_type": "markdown",
   "metadata": {},
   "source": [
    "### Recomendation"
   ]
  },
  {
   "cell_type": "markdown",
   "metadata": {},
   "source": [
    "1. Lakukan A/B testing untuk menguji tingkat efektivitas model terhadap lakunya listing jika dibandingkan dengan host yang menentukan harga sewa listingnya sendiri.<br><br>\n",
    "2. Penambahan fitur - fitur lain yang lebih korelatif dengan harga, seperti fitur kendaraan, kondisi kendaraan ataupun fitur fitur lainnya untuk meningkatkan tinkat akurasi data jika memungkinkan. Selain itu bisa juga dilakukan updating terhadap data yang baru untuk meningkatkan kapasitas prediksi dari model.<br><br>\n",
    "3. Dilakukan pengecekan terhadp prediksi yang memiliki nilai error yang tinggi, dimana predikisi -  prediksi tersebut dapat dikelompokan menjadi *overestimation* dan *underestimation* dan dipilih 5% error (tergantung kepada selang kepercayaan yang di harapkan) paling ekstrim dari setiap grup. Selanjutnya dapat dilakukan pengelompokan menjadi 3 dengan menambahkan grup mayoritas yang nilai error mendekati nilai mean (90%). Tahapan berikiunnya yang dilakukan adalah penggabungan antara eror tersebut dengan indipenden variabel sehingga dapat diketahui variabel apa yang memiliki nilai error yang tinggi jadi kita dapat melakukan training model dengan feature enginerin yang lebih optimal.<br><br>\n",
    "4. Dari feature importance terlihat bahwa gear_type, origin dan region memiliki nilai kontribusi yang kecil terhadap model, bisa dilakukan feature enginering untuk menghilangkan salah satu atau ketiga kolom tersebut untuk dilihat pengarunya terhadap model yang dignakan feature tersebut dihilangkan."
   ]
  },
  {
   "cell_type": "markdown",
   "metadata": {},
   "source": [
    "## Penyimpanan Model"
   ]
  },
  {
   "cell_type": "code",
   "execution_count": 172,
   "metadata": {},
   "outputs": [],
   "source": [
    "# Save Model\n",
    "\n",
    "import pickle\n",
    "\n",
    "best_parameter.fit(x2_train, y2_train)\n",
    "pickle.dump(best_parameter, open('Saudi_Arabian_Used_Car_RandomForrest.sav', 'wb'))"
   ]
  },
  {
   "cell_type": "code",
   "execution_count": 173,
   "metadata": {},
   "outputs": [],
   "source": [
    "# Load model\n",
    "filename = 'Saudi_Arabian_Used_Car_RandomForrest.sav'\n",
    "loaded_model = pickle.load(open(filename, 'rb'))"
   ]
  }
 ],
 "metadata": {
  "kernelspec": {
   "display_name": "Python 3.10.5 64-bit",
   "language": "python",
   "name": "python3"
  },
  "language_info": {
   "codemirror_mode": {
    "name": "ipython",
    "version": 3
   },
   "file_extension": ".py",
   "mimetype": "text/x-python",
   "name": "python",
   "nbconvert_exporter": "python",
   "pygments_lexer": "ipython3",
   "version": "3.10.5"
  },
  "orig_nbformat": 4,
  "vscode": {
   "interpreter": {
    "hash": "da537f09bc93cf3be59885a0ad075e4797b894de1d461ec18c1e40bf35942012"
   }
  }
 },
 "nbformat": 4,
 "nbformat_minor": 2
}
